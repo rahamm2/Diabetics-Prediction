{
  "nbformat": 4,
  "nbformat_minor": 0,
  "metadata": {
    "colab": {
      "name": "SEP_788_new.ipynb",
      "provenance": [],
      "toc_visible": true,
      "include_colab_link": true
    },
    "kernelspec": {
      "display_name": "Python 3",
      "language": "python",
      "name": "python3"
    }
  },
  "cells": [
    {
      "cell_type": "markdown",
      "metadata": {
        "id": "view-in-github",
        "colab_type": "text"
      },
      "source": [
        "<a href=\"https://colab.research.google.com/github/rahamm2/Diabetics-Prediction/blob/main/SEP_788_new.ipynb\" target=\"_parent\"><img src=\"https://colab.research.google.com/assets/colab-badge.svg\" alt=\"Open In Colab\"/></a>"
      ]
    },
    {
      "cell_type": "code",
      "metadata": {
        "id": "qMW5jrFcMg64"
      },
      "source": [
        "##Import all the necessary package \n",
        "import numpy as np\n",
        "import pandas as pd\n",
        "import matplotlib.pyplot as plt\n",
        "import warnings\n",
        "warnings.filterwarnings('ignore')\n"
      ],
      "execution_count": 3,
      "outputs": []
    },
    {
      "cell_type": "code",
      "metadata": {
        "id": "GXAS9LbdNCSK"
      },
      "source": [
        "data=pd.read_csv(\"lab_results.csv\")"
      ],
      "execution_count": 4,
      "outputs": []
    },
    {
      "cell_type": "code",
      "metadata": {
        "colab": {
          "base_uri": "https://localhost:8080/",
          "height": 204
        },
        "id": "sZXI3axINoIo",
        "outputId": "d1a27563-a077-43fd-94c4-854040ea8e5a"
      },
      "source": [
        "data.head()"
      ],
      "execution_count": 5,
      "outputs": [
        {
          "output_type": "execute_result",
          "data": {
            "text/html": [
              "<div>\n",
              "<style scoped>\n",
              "    .dataframe tbody tr th:only-of-type {\n",
              "        vertical-align: middle;\n",
              "    }\n",
              "\n",
              "    .dataframe tbody tr th {\n",
              "        vertical-align: top;\n",
              "    }\n",
              "\n",
              "    .dataframe thead th {\n",
              "        text-align: right;\n",
              "    }\n",
              "</style>\n",
              "<table border=\"1\" class=\"dataframe\">\n",
              "  <thead>\n",
              "    <tr style=\"text-align: right;\">\n",
              "      <th></th>\n",
              "      <th>pregnancies</th>\n",
              "      <th>Glucose</th>\n",
              "      <th>BloodPressure</th>\n",
              "      <th>SkinThickness</th>\n",
              "      <th>Insulin</th>\n",
              "      <th>BMI</th>\n",
              "      <th>DiabetesPedigreeF</th>\n",
              "      <th>Age</th>\n",
              "      <th>Outcome</th>\n",
              "    </tr>\n",
              "  </thead>\n",
              "  <tbody>\n",
              "    <tr>\n",
              "      <th>0</th>\n",
              "      <td>6</td>\n",
              "      <td>0.743719</td>\n",
              "      <td>0.590164</td>\n",
              "      <td>0.353535</td>\n",
              "      <td>0.000000</td>\n",
              "      <td>0.500745</td>\n",
              "      <td>0.234415</td>\n",
              "      <td>50</td>\n",
              "      <td>1</td>\n",
              "    </tr>\n",
              "    <tr>\n",
              "      <th>1</th>\n",
              "      <td>1</td>\n",
              "      <td>0.427136</td>\n",
              "      <td>0.540984</td>\n",
              "      <td>0.292929</td>\n",
              "      <td>0.000000</td>\n",
              "      <td>0.396423</td>\n",
              "      <td>0.116567</td>\n",
              "      <td>31</td>\n",
              "      <td>0</td>\n",
              "    </tr>\n",
              "    <tr>\n",
              "      <th>2</th>\n",
              "      <td>8</td>\n",
              "      <td>0.919598</td>\n",
              "      <td>0.524590</td>\n",
              "      <td>0.000000</td>\n",
              "      <td>0.000000</td>\n",
              "      <td>0.347243</td>\n",
              "      <td>0.253629</td>\n",
              "      <td>32</td>\n",
              "      <td>1</td>\n",
              "    </tr>\n",
              "    <tr>\n",
              "      <th>3</th>\n",
              "      <td>1</td>\n",
              "      <td>0.447236</td>\n",
              "      <td>0.540984</td>\n",
              "      <td>0.232323</td>\n",
              "      <td>0.111111</td>\n",
              "      <td>0.418778</td>\n",
              "      <td>0.038002</td>\n",
              "      <td>21</td>\n",
              "      <td>0</td>\n",
              "    </tr>\n",
              "    <tr>\n",
              "      <th>4</th>\n",
              "      <td>0</td>\n",
              "      <td>0.688442</td>\n",
              "      <td>0.327869</td>\n",
              "      <td>0.353535</td>\n",
              "      <td>0.198582</td>\n",
              "      <td>0.642325</td>\n",
              "      <td>0.943638</td>\n",
              "      <td>33</td>\n",
              "      <td>1</td>\n",
              "    </tr>\n",
              "  </tbody>\n",
              "</table>\n",
              "</div>"
            ],
            "text/plain": [
              "   pregnancies   Glucose  BloodPressure  ...  DiabetesPedigreeF  Age  Outcome\n",
              "0            6  0.743719       0.590164  ...           0.234415   50        1\n",
              "1            1  0.427136       0.540984  ...           0.116567   31        0\n",
              "2            8  0.919598       0.524590  ...           0.253629   32        1\n",
              "3            1  0.447236       0.540984  ...           0.038002   21        0\n",
              "4            0  0.688442       0.327869  ...           0.943638   33        1\n",
              "\n",
              "[5 rows x 9 columns]"
            ]
          },
          "metadata": {
            "tags": []
          },
          "execution_count": 5
        }
      ]
    },
    {
      "cell_type": "code",
      "metadata": {
        "colab": {
          "base_uri": "https://localhost:8080/"
        },
        "id": "0ucBhw2djYLT",
        "outputId": "da27de4c-cccc-4a30-99f3-ceb2aec5a8e7"
      },
      "source": [
        "## Checking the shape of Data\n",
        "data.shape"
      ],
      "execution_count": 6,
      "outputs": [
        {
          "output_type": "execute_result",
          "data": {
            "text/plain": [
              "(768, 9)"
            ]
          },
          "metadata": {
            "tags": []
          },
          "execution_count": 6
        }
      ]
    },
    {
      "cell_type": "code",
      "metadata": {
        "colab": {
          "base_uri": "https://localhost:8080/"
        },
        "id": "RjiiS2DqN4a_",
        "outputId": "94c39b41-e8bd-40b5-abbe-aa4932e8bb95"
      },
      "source": [
        "# Checking for missing data\n",
        "data.isnull().sum()"
      ],
      "execution_count": 7,
      "outputs": [
        {
          "output_type": "execute_result",
          "data": {
            "text/plain": [
              "pregnancies          0\n",
              "Glucose              0\n",
              "BloodPressure        0\n",
              "SkinThickness        0\n",
              "Insulin              0\n",
              "BMI                  0\n",
              "DiabetesPedigreeF    0\n",
              "Age                  0\n",
              "Outcome              0\n",
              "dtype: int64"
            ]
          },
          "metadata": {
            "tags": []
          },
          "execution_count": 7
        }
      ]
    },
    {
      "cell_type": "code",
      "metadata": {
        "colab": {
          "base_uri": "https://localhost:8080/",
          "height": 328
        },
        "id": "kvydJNICOHJw",
        "outputId": "f5c6a149-9839-4c99-cf46-7f1cf41b6935"
      },
      "source": [
        "## Checking the summary of the dataset\n",
        "data.describe().T"
      ],
      "execution_count": 8,
      "outputs": [
        {
          "output_type": "execute_result",
          "data": {
            "text/html": [
              "<div>\n",
              "<style scoped>\n",
              "    .dataframe tbody tr th:only-of-type {\n",
              "        vertical-align: middle;\n",
              "    }\n",
              "\n",
              "    .dataframe tbody tr th {\n",
              "        vertical-align: top;\n",
              "    }\n",
              "\n",
              "    .dataframe thead th {\n",
              "        text-align: right;\n",
              "    }\n",
              "</style>\n",
              "<table border=\"1\" class=\"dataframe\">\n",
              "  <thead>\n",
              "    <tr style=\"text-align: right;\">\n",
              "      <th></th>\n",
              "      <th>count</th>\n",
              "      <th>mean</th>\n",
              "      <th>std</th>\n",
              "      <th>min</th>\n",
              "      <th>25%</th>\n",
              "      <th>50%</th>\n",
              "      <th>75%</th>\n",
              "      <th>max</th>\n",
              "    </tr>\n",
              "  </thead>\n",
              "  <tbody>\n",
              "    <tr>\n",
              "      <th>pregnancies</th>\n",
              "      <td>768.0</td>\n",
              "      <td>3.845052</td>\n",
              "      <td>3.369578</td>\n",
              "      <td>0.0</td>\n",
              "      <td>1.000000</td>\n",
              "      <td>3.000000</td>\n",
              "      <td>6.000000</td>\n",
              "      <td>17.0</td>\n",
              "    </tr>\n",
              "    <tr>\n",
              "      <th>Glucose</th>\n",
              "      <td>768.0</td>\n",
              "      <td>0.607510</td>\n",
              "      <td>0.160666</td>\n",
              "      <td>0.0</td>\n",
              "      <td>0.497487</td>\n",
              "      <td>0.587940</td>\n",
              "      <td>0.704774</td>\n",
              "      <td>1.0</td>\n",
              "    </tr>\n",
              "    <tr>\n",
              "      <th>BloodPressure</th>\n",
              "      <td>768.0</td>\n",
              "      <td>0.566438</td>\n",
              "      <td>0.158654</td>\n",
              "      <td>0.0</td>\n",
              "      <td>0.508197</td>\n",
              "      <td>0.590164</td>\n",
              "      <td>0.655738</td>\n",
              "      <td>1.0</td>\n",
              "    </tr>\n",
              "    <tr>\n",
              "      <th>SkinThickness</th>\n",
              "      <td>768.0</td>\n",
              "      <td>1.813907</td>\n",
              "      <td>44.520947</td>\n",
              "      <td>0.0</td>\n",
              "      <td>0.000000</td>\n",
              "      <td>0.232323</td>\n",
              "      <td>0.323232</td>\n",
              "      <td>1234.0</td>\n",
              "    </tr>\n",
              "    <tr>\n",
              "      <th>Insulin</th>\n",
              "      <td>768.0</td>\n",
              "      <td>0.094326</td>\n",
              "      <td>0.136222</td>\n",
              "      <td>0.0</td>\n",
              "      <td>0.000000</td>\n",
              "      <td>0.036052</td>\n",
              "      <td>0.150414</td>\n",
              "      <td>1.0</td>\n",
              "    </tr>\n",
              "    <tr>\n",
              "      <th>BMI</th>\n",
              "      <td>768.0</td>\n",
              "      <td>0.476790</td>\n",
              "      <td>0.117499</td>\n",
              "      <td>0.0</td>\n",
              "      <td>0.406855</td>\n",
              "      <td>0.476900</td>\n",
              "      <td>0.545455</td>\n",
              "      <td>1.0</td>\n",
              "    </tr>\n",
              "    <tr>\n",
              "      <th>DiabetesPedigreeF</th>\n",
              "      <td>768.0</td>\n",
              "      <td>0.168179</td>\n",
              "      <td>0.141473</td>\n",
              "      <td>0.0</td>\n",
              "      <td>0.070773</td>\n",
              "      <td>0.125747</td>\n",
              "      <td>0.234095</td>\n",
              "      <td>1.0</td>\n",
              "    </tr>\n",
              "    <tr>\n",
              "      <th>Age</th>\n",
              "      <td>768.0</td>\n",
              "      <td>37.744792</td>\n",
              "      <td>93.171289</td>\n",
              "      <td>21.0</td>\n",
              "      <td>24.000000</td>\n",
              "      <td>29.000000</td>\n",
              "      <td>41.000000</td>\n",
              "      <td>2300.0</td>\n",
              "    </tr>\n",
              "    <tr>\n",
              "      <th>Outcome</th>\n",
              "      <td>768.0</td>\n",
              "      <td>0.348958</td>\n",
              "      <td>0.476951</td>\n",
              "      <td>0.0</td>\n",
              "      <td>0.000000</td>\n",
              "      <td>0.000000</td>\n",
              "      <td>1.000000</td>\n",
              "      <td>1.0</td>\n",
              "    </tr>\n",
              "  </tbody>\n",
              "</table>\n",
              "</div>"
            ],
            "text/plain": [
              "                   count       mean        std  ...        50%        75%     max\n",
              "pregnancies        768.0   3.845052   3.369578  ...   3.000000   6.000000    17.0\n",
              "Glucose            768.0   0.607510   0.160666  ...   0.587940   0.704774     1.0\n",
              "BloodPressure      768.0   0.566438   0.158654  ...   0.590164   0.655738     1.0\n",
              "SkinThickness      768.0   1.813907  44.520947  ...   0.232323   0.323232  1234.0\n",
              "Insulin            768.0   0.094326   0.136222  ...   0.036052   0.150414     1.0\n",
              "BMI                768.0   0.476790   0.117499  ...   0.476900   0.545455     1.0\n",
              "DiabetesPedigreeF  768.0   0.168179   0.141473  ...   0.125747   0.234095     1.0\n",
              "Age                768.0  37.744792  93.171289  ...  29.000000  41.000000  2300.0\n",
              "Outcome            768.0   0.348958   0.476951  ...   0.000000   1.000000     1.0\n",
              "\n",
              "[9 rows x 8 columns]"
            ]
          },
          "metadata": {
            "tags": []
          },
          "execution_count": 8
        }
      ]
    },
    {
      "cell_type": "code",
      "metadata": {
        "colab": {
          "base_uri": "https://localhost:8080/"
        },
        "id": "iCsxzwAAOgw_",
        "outputId": "3b850530-c8c7-4421-fc86-f8f6c02915b0"
      },
      "source": [
        "## Checking the summary of the dataset\n",
        "data.dtypes"
      ],
      "execution_count": 9,
      "outputs": [
        {
          "output_type": "execute_result",
          "data": {
            "text/plain": [
              "pregnancies            int64\n",
              "Glucose              float64\n",
              "BloodPressure        float64\n",
              "SkinThickness        float64\n",
              "Insulin              float64\n",
              "BMI                  float64\n",
              "DiabetesPedigreeF    float64\n",
              "Age                    int64\n",
              "Outcome                int64\n",
              "dtype: object"
            ]
          },
          "metadata": {
            "tags": []
          },
          "execution_count": 9
        }
      ]
    },
    {
      "cell_type": "markdown",
      "metadata": {
        "id": "316_pZIonqQd"
      },
      "source": [
        "### **Outlier Detection and Treatment**\n"
      ]
    },
    {
      "cell_type": "code",
      "metadata": {
        "id": "CC4WxBnJC-ms"
      },
      "source": [
        "import seaborn as sns"
      ],
      "execution_count": 10,
      "outputs": []
    },
    {
      "cell_type": "code",
      "metadata": {
        "colab": {
          "base_uri": "https://localhost:8080/",
          "height": 296
        },
        "id": "G0QTfLnivkaL",
        "outputId": "8b0b2b61-c2d2-4fdf-afaf-8d84c28fa27d"
      },
      "source": [
        "sns.histplot(data[\"pregnancies\"])"
      ],
      "execution_count": 11,
      "outputs": [
        {
          "output_type": "execute_result",
          "data": {
            "text/plain": [
              "<matplotlib.axes._subplots.AxesSubplot at 0x7f31785ad5c0>"
            ]
          },
          "metadata": {
            "tags": []
          },
          "execution_count": 11
        },
        {
          "output_type": "display_data",
          "data": {
            "image/png": "[encoded data removed]",
            "text/plain": [
              "<Figure size 432x288 with 1 Axes>"
            ]
          },
          "metadata": {
            "tags": [],
            "needs_background": "light"
          }
        }
      ]
    },
    {
      "cell_type": "code",
      "metadata": {
        "colab": {
          "base_uri": "https://localhost:8080/",
          "height": 282
        },
        "id": "lOsXYWP8v_-d",
        "outputId": "f867dbbc-1982-43ab-e702-e0bad51837ec"
      },
      "source": [
        "data.boxplot(column=\"pregnancies\")"
      ],
      "execution_count": 12,
      "outputs": [
        {
          "output_type": "execute_result",
          "data": {
            "text/plain": [
              "<matplotlib.axes._subplots.AxesSubplot at 0x7f31775a6240>"
            ]
          },
          "metadata": {
            "tags": []
          },
          "execution_count": 12
        },
        {
          "output_type": "display_data",
          "data": {
            "image/png": "[encoded data removed]",
            "text/plain": [
              "<Figure size 432x288 with 1 Axes>"
            ]
          },
          "metadata": {
            "tags": [],
            "needs_background": "light"
          }
        }
      ]
    },
    {
      "cell_type": "code",
      "metadata": {
        "colab": {
          "base_uri": "https://localhost:8080/"
        },
        "id": "Yv3ZSNzpyrEk",
        "outputId": "cd26c0dc-e861-4983-8824-d7186fdb8388"
      },
      "source": [
        "## As Data is skewed  so I will use following treatment\n",
        "IQR=data.pregnancies.quantile(0.75)-data.pregnancies.quantile(0.25)\n",
        "print(IQR)"
      ],
      "execution_count": 13,
      "outputs": [
        {
          "output_type": "stream",
          "text": [
            "5.0\n"
          ],
          "name": "stdout"
        }
      ]
    },
    {
      "cell_type": "code",
      "metadata": {
        "colab": {
          "base_uri": "https://localhost:8080/"
        },
        "id": "rbHJcbO2z6s5",
        "outputId": "c2ec9d52-d815-484a-b8a5-8cb64bc14139"
      },
      "source": [
        "lower_boundary=data.pregnancies.quantile(.25)-(IQR*1.5)\n",
        "upper_boundary=data.pregnancies.quantile(.75)+(IQR*1.5)\n",
        "print(lower_boundary,upper_boundary)"
      ],
      "execution_count": 14,
      "outputs": [
        {
          "output_type": "stream",
          "text": [
            "-6.5 13.5\n"
          ],
          "name": "stdout"
        }
      ]
    },
    {
      "cell_type": "code",
      "metadata": {
        "colab": {
          "base_uri": "https://localhost:8080/",
          "height": 296
        },
        "id": "l4iNk154wFu1",
        "outputId": "5c21dabe-6fba-4363-8cc7-0aa0bb0bd13e"
      },
      "source": [
        "sns.histplot(data[\"Glucose\"])"
      ],
      "execution_count": 15,
      "outputs": [
        {
          "output_type": "execute_result",
          "data": {
            "text/plain": [
              "<matplotlib.axes._subplots.AxesSubplot at 0x7f3177505cf8>"
            ]
          },
          "metadata": {
            "tags": []
          },
          "execution_count": 15
        },
        {
          "output_type": "display_data",
          "data": {
            "image/png": "[encoded data removed]",
            "text/plain": [
              "<Figure size 432x288 with 1 Axes>"
            ]
          },
          "metadata": {
            "tags": [],
            "needs_background": "light"
          }
        }
      ]
    },
    {
      "cell_type": "code",
      "metadata": {
        "colab": {
          "base_uri": "https://localhost:8080/"
        },
        "id": "fyiWnH0B2ndE",
        "outputId": "3a36bc37-3dbe-43e8-9dab-d32684766446"
      },
      "source": [
        "##### Assuming Glucose follows A Gaussian Distribution we will calculate the boundaries which differentiates the outliers\n",
        "\n",
        "uppper_boundary=data['Glucose'].mean() + 3* data['Glucose'].std()\n",
        "lower_boundary=data['Glucose'].mean() - 3* data['Glucose'].std()\n",
        "print(lower_boundary,uppper_boundary)"
      ],
      "execution_count": 16,
      "outputs": [
        {
          "output_type": "stream",
          "text": [
            "0.12551093804642477 1.0895094765317\n"
          ],
          "name": "stdout"
        }
      ]
    },
    {
      "cell_type": "code",
      "metadata": {
        "colab": {
          "base_uri": "https://localhost:8080/",
          "height": 296
        },
        "id": "xvgt3QGOwMFD",
        "outputId": "9bffd3cb-b2d3-4011-c367-d7a6a1f2c92a"
      },
      "source": [
        "sns.histplot(data[\"BloodPressure\"])"
      ],
      "execution_count": 17,
      "outputs": [
        {
          "output_type": "execute_result",
          "data": {
            "text/plain": [
              "<matplotlib.axes._subplots.AxesSubplot at 0x7f31774e3e10>"
            ]
          },
          "metadata": {
            "tags": []
          },
          "execution_count": 17
        },
        {
          "output_type": "display_data",
          "data": {
            "image/png": "[encoded data removed]",
            "text/plain": [
              "<Figure size 432x288 with 1 Axes>"
            ]
          },
          "metadata": {
            "tags": [],
            "needs_background": "light"
          }
        }
      ]
    },
    {
      "cell_type": "code",
      "metadata": {
        "colab": {
          "base_uri": "https://localhost:8080/"
        },
        "id": "EPzjwwWS3zAX",
        "outputId": "c94749cb-ddce-4f80-8872-660f64d73431"
      },
      "source": [
        "##### Assuming Blood Pressure follows A Gaussian Distribution we will calculate the boundaries which differentiates the outliers\n",
        "\n",
        "uppper_boundary=data['BloodPressure'].mean() + 3* data['BloodPressure'].std()\n",
        "lower_boundary=data['BloodPressure'].mean() - 3* data['BloodPressure'].std()\n",
        "print(lower_boundary,uppper_boundary)"
      ],
      "execution_count": 18,
      "outputs": [
        {
          "output_type": "stream",
          "text": [
            "0.09047579705124442 1.042400739828964\n"
          ],
          "name": "stdout"
        }
      ]
    },
    {
      "cell_type": "code",
      "metadata": {
        "colab": {
          "base_uri": "https://localhost:8080/",
          "height": 299
        },
        "id": "sh8yej1JwxSM",
        "outputId": "84895405-d45b-4f85-f534-96701435ae17"
      },
      "source": [
        "sns.histplot(data[\"SkinThickness\"],bins=60)"
      ],
      "execution_count": 19,
      "outputs": [
        {
          "output_type": "execute_result",
          "data": {
            "text/plain": [
              "<matplotlib.axes._subplots.AxesSubplot at 0x7f31775168d0>"
            ]
          },
          "metadata": {
            "tags": []
          },
          "execution_count": 19
        },
        {
          "output_type": "display_data",
          "data": {
            "image/png": "[encoded data removed]",
            "text/plain": [
              "<Figure size 432x288 with 1 Axes>"
            ]
          },
          "metadata": {
            "tags": [],
            "needs_background": "light"
          }
        }
      ]
    },
    {
      "cell_type": "code",
      "metadata": {
        "colab": {
          "base_uri": "https://localhost:8080/"
        },
        "id": "8FlmCkHbkIQm",
        "outputId": "8eaec3b6-6862-4b52-ed6e-60f9d1db5535"
      },
      "source": [
        "IQR_ST=data.SkinThickness.quantile(0.75)-data.SkinThickness.quantile(0.25)\n",
        "print(IQR_ST)"
      ],
      "execution_count": 20,
      "outputs": [
        {
          "output_type": "stream",
          "text": [
            "0.323232323\n"
          ],
          "name": "stdout"
        }
      ]
    },
    {
      "cell_type": "code",
      "metadata": {
        "colab": {
          "base_uri": "https://localhost:8080/"
        },
        "id": "SjHhZh42xNyL",
        "outputId": "d6e9b6c0-58f9-4689-f1d2-3cd0fcbdc570"
      },
      "source": [
        "lower_boundary=data.SkinThickness.quantile(.25)-(IQR_ST*1.5)\n",
        "upper_boundary=data.SkinThickness.quantile(.75)+(IQR_ST*1.5)\n",
        "print(lower_boundary,upper_boundary)"
      ],
      "execution_count": 21,
      "outputs": [
        {
          "output_type": "stream",
          "text": [
            "-0.48484848449999995 0.8080808074999999\n"
          ],
          "name": "stdout"
        }
      ]
    },
    {
      "cell_type": "code",
      "metadata": {
        "colab": {
          "base_uri": "https://localhost:8080/",
          "height": 282
        },
        "id": "dTfNn2dijnZq",
        "outputId": "ddcd067c-a3cc-4a26-edac-9aeebc449773"
      },
      "source": [
        "data.boxplot(column=\"SkinThickness\")"
      ],
      "execution_count": 22,
      "outputs": [
        {
          "output_type": "execute_result",
          "data": {
            "text/plain": [
              "<matplotlib.axes._subplots.AxesSubplot at 0x7f317728d080>"
            ]
          },
          "metadata": {
            "tags": []
          },
          "execution_count": 22
        },
        {
          "output_type": "display_data",
          "data": {
            "image/png": "[encoded data removed]",
            "text/plain": [
              "<Figure size 432x288 with 1 Axes>"
            ]
          },
          "metadata": {
            "tags": [],
            "needs_background": "light"
          }
        }
      ]
    },
    {
      "cell_type": "code",
      "metadata": {
        "colab": {
          "base_uri": "https://localhost:8080/"
        },
        "id": "ppnF1JAb4M5h",
        "outputId": "77f9a987-6529-40e3-b209-6967041f631e"
      },
      "source": [
        "data[data[\"SkinThickness\"]>=.80].count()"
      ],
      "execution_count": 23,
      "outputs": [
        {
          "output_type": "execute_result",
          "data": {
            "text/plain": [
              "pregnancies          2\n",
              "Glucose              2\n",
              "BloodPressure        2\n",
              "SkinThickness        2\n",
              "Insulin              2\n",
              "BMI                  2\n",
              "DiabetesPedigreeF    2\n",
              "Age                  2\n",
              "Outcome              2\n",
              "dtype: int64"
            ]
          },
          "metadata": {
            "tags": []
          },
          "execution_count": 23
        }
      ]
    },
    {
      "cell_type": "code",
      "metadata": {
        "colab": {
          "base_uri": "https://localhost:8080/",
          "height": 299
        },
        "id": "TpmLVkPwxRrS",
        "outputId": "3dd9e850-3c55-4e8e-b723-2a802e2f8b06"
      },
      "source": [
        "sns.histplot(data[\"Insulin\"])"
      ],
      "execution_count": 24,
      "outputs": [
        {
          "output_type": "execute_result",
          "data": {
            "text/plain": [
              "<matplotlib.axes._subplots.AxesSubplot at 0x7f317733e390>"
            ]
          },
          "metadata": {
            "tags": []
          },
          "execution_count": 24
        },
        {
          "output_type": "display_data",
          "data": {
            "image/png": "[encoded data removed]",
            "text/plain": [
              "<Figure size 432x288 with 1 Axes>"
            ]
          },
          "metadata": {
            "tags": [],
            "needs_background": "light"
          }
        }
      ]
    },
    {
      "cell_type": "code",
      "metadata": {
        "colab": {
          "base_uri": "https://localhost:8080/"
        },
        "id": "AalJfgwJ1cw3",
        "outputId": "c4167742-9d61-49c9-8927-7ce9f606b488"
      },
      "source": [
        "\n",
        "## As Data is skewed  so I will use following treatment\n",
        "IQR_Ins=data.Insulin.quantile(0.75)-data.Insulin.quantile(0.25)\n",
        "print(IQR_Ins)"
      ],
      "execution_count": 25,
      "outputs": [
        {
          "output_type": "stream",
          "text": [
            "0.15041371125\n"
          ],
          "name": "stdout"
        }
      ]
    },
    {
      "cell_type": "code",
      "metadata": {
        "colab": {
          "base_uri": "https://localhost:8080/"
        },
        "id": "nK5xlJvU1wo1",
        "outputId": "8f922639-91bd-4c3f-d15f-5d0915b70db4"
      },
      "source": [
        "lower_boundary=data.Insulin.quantile(.25)-(IQR_Ins*1.5)\n",
        "upper_boundary=data.Insulin.quantile(.75)+(IQR_Ins*1.5)\n",
        "print(lower_boundary,upper_boundary)"
      ],
      "execution_count": 26,
      "outputs": [
        {
          "output_type": "stream",
          "text": [
            "-0.22562056687499998 0.376034278125\n"
          ],
          "name": "stdout"
        }
      ]
    },
    {
      "cell_type": "code",
      "metadata": {
        "colab": {
          "base_uri": "https://localhost:8080/",
          "height": 296
        },
        "id": "AaEhEPUdxccf",
        "outputId": "80990691-cff6-4f26-a356-a5812c448a86"
      },
      "source": [
        "sns.histplot(data[\"BMI\"])"
      ],
      "execution_count": 27,
      "outputs": [
        {
          "output_type": "execute_result",
          "data": {
            "text/plain": [
              "<matplotlib.axes._subplots.AxesSubplot at 0x7f3177199f60>"
            ]
          },
          "metadata": {
            "tags": []
          },
          "execution_count": 27
        },
        {
          "output_type": "display_data",
          "data": {
            "image/png": "[encoded data removed]",
            "text/plain": [
              "<Figure size 432x288 with 1 Axes>"
            ]
          },
          "metadata": {
            "tags": [],
            "needs_background": "light"
          }
        }
      ]
    },
    {
      "cell_type": "code",
      "metadata": {
        "colab": {
          "base_uri": "https://localhost:8080/"
        },
        "id": "0t69ZNUs5Ncf",
        "outputId": "144d5c96-f22d-47e7-ea0b-676b37ee3123"
      },
      "source": [
        "##### Assuming  follows BMI A Gaussian Distribution we will calculate the boundaries which differentiates the outliers\n",
        "uppper_boundary=data['BMI'].mean() + 3* data['BMI'].std()\n",
        "lower_boundary=data['BMI'].mean() - 3* data['BMI'].std()\n",
        "print(lower_boundary,uppper_boundary)"
      ],
      "execution_count": 28,
      "outputs": [
        {
          "output_type": "stream",
          "text": [
            "0.12429354941785797 0.8292855302878707\n"
          ],
          "name": "stdout"
        }
      ]
    },
    {
      "cell_type": "code",
      "metadata": {
        "colab": {
          "base_uri": "https://localhost:8080/",
          "height": 296
        },
        "id": "TiRjlF-5xmwt",
        "outputId": "5aac3373-4f12-4224-c835-e93583357079"
      },
      "source": [
        "sns.histplot(data[\"DiabetesPedigreeF\"])"
      ],
      "execution_count": 29,
      "outputs": [
        {
          "output_type": "execute_result",
          "data": {
            "text/plain": [
              "<matplotlib.axes._subplots.AxesSubplot at 0x7f31770dbcf8>"
            ]
          },
          "metadata": {
            "tags": []
          },
          "execution_count": 29
        },
        {
          "output_type": "display_data",
          "data": {
            "image/png": "[encoded data removed]",
            "text/plain": [
              "<Figure size 432x288 with 1 Axes>"
            ]
          },
          "metadata": {
            "tags": [],
            "needs_background": "light"
          }
        }
      ]
    },
    {
      "cell_type": "code",
      "metadata": {
        "colab": {
          "base_uri": "https://localhost:8080/"
        },
        "id": "X83ix4Zj193w",
        "outputId": "b035db83-79d1-411e-b46f-45127236324d"
      },
      "source": [
        "## As Data is skewed  so I will use following treatment\n",
        "IQR=data.DiabetesPedigreeF.quantile(0.75)-data.DiabetesPedigreeF.quantile(0.25)\n",
        "print(IQR)"
      ],
      "execution_count": 30,
      "outputs": [
        {
          "output_type": "stream",
          "text": [
            "0.16332194674999997\n"
          ],
          "name": "stdout"
        }
      ]
    },
    {
      "cell_type": "code",
      "metadata": {
        "colab": {
          "base_uri": "https://localhost:8080/"
        },
        "id": "Ca6qZJL52JUG",
        "outputId": "cd8af104-deec-4603-e2de-4091c57a1ccb"
      },
      "source": [
        "lower_boundary=data.DiabetesPedigreeF.quantile(.25)-(IQR*1.5)\n",
        "upper_boundary=data.DiabetesPedigreeF.quantile(.75)+(IQR*1.5)\n",
        "print(lower_boundary,upper_boundary)"
      ],
      "execution_count": 31,
      "outputs": [
        {
          "output_type": "stream",
          "text": [
            "-0.17421007637499994 0.47907771062499993\n"
          ],
          "name": "stdout"
        }
      ]
    },
    {
      "cell_type": "code",
      "metadata": {
        "colab": {
          "base_uri": "https://localhost:8080/",
          "height": 299
        },
        "id": "QPzYnal3x9yn",
        "outputId": "a0cc7ae3-d4bc-4ae5-ce4a-f3c164598ac6"
      },
      "source": [
        "sns.histplot(data[\"Age\"],bins=20)"
      ],
      "execution_count": 32,
      "outputs": [
        {
          "output_type": "execute_result",
          "data": {
            "text/plain": [
              "<matplotlib.axes._subplots.AxesSubplot at 0x7f31771995c0>"
            ]
          },
          "metadata": {
            "tags": []
          },
          "execution_count": 32
        },
        {
          "output_type": "display_data",
          "data": {
            "image/png": "[encoded data removed]",
            "text/plain": [
              "<Figure size 432x288 with 1 Axes>"
            ]
          },
          "metadata": {
            "tags": [],
            "needs_background": "light"
          }
        }
      ]
    },
    {
      "cell_type": "code",
      "metadata": {
        "colab": {
          "base_uri": "https://localhost:8080/",
          "height": 282
        },
        "id": "6z32gMJWx92S",
        "outputId": "2719c6ae-c361-4875-e464-7e149d0c65af"
      },
      "source": [
        "data.boxplot(column=\"Age\")"
      ],
      "execution_count": 33,
      "outputs": [
        {
          "output_type": "execute_result",
          "data": {
            "text/plain": [
              "<matplotlib.axes._subplots.AxesSubplot at 0x7f3177034470>"
            ]
          },
          "metadata": {
            "tags": []
          },
          "execution_count": 33
        },
        {
          "output_type": "display_data",
          "data": {
            "image/png": "[encoded data removed]",
            "text/plain": [
              "<Figure size 432x288 with 1 Axes>"
            ]
          },
          "metadata": {
            "tags": [],
            "needs_background": "light"
          }
        }
      ]
    },
    {
      "cell_type": "code",
      "metadata": {
        "colab": {
          "base_uri": "https://localhost:8080/"
        },
        "id": "2ZZfaOwYnIeA",
        "outputId": "167232f0-3fe4-4a65-c19d-11eb4fd5ac9e"
      },
      "source": [
        "# IQR Treatment for Age\n",
        "IQR_Age=data.Age.quantile(.75)-data.Age.quantile(.25)\n",
        "print(IQR_Age)"
      ],
      "execution_count": 34,
      "outputs": [
        {
          "output_type": "stream",
          "text": [
            "17.0\n"
          ],
          "name": "stdout"
        }
      ]
    },
    {
      "cell_type": "code",
      "metadata": {
        "colab": {
          "base_uri": "https://localhost:8080/"
        },
        "id": "ecFUBWsCn2OB",
        "outputId": "d6fd8c01-0c1c-41d1-9080-86c5c3138465"
      },
      "source": [
        "lower_boundary=data.Age.quantile(.25)-(IQR_Age*1.5)\n",
        "upper_boundary=data.Age.quantile(.75)+(IQR_Age*1.5)\n",
        "print(lower_boundary,upper_boundary)"
      ],
      "execution_count": 35,
      "outputs": [
        {
          "output_type": "stream",
          "text": [
            "-1.5 66.5\n"
          ],
          "name": "stdout"
        }
      ]
    },
    {
      "cell_type": "code",
      "metadata": {
        "colab": {
          "base_uri": "https://localhost:8080/"
        },
        "id": "zSrEA2O-5cnJ",
        "outputId": "02e57e43-b0ce-4d7d-e0e4-05b40cef97c6"
      },
      "source": [
        "data[data[\"Age\"]>=66.5].count()"
      ],
      "execution_count": 36,
      "outputs": [
        {
          "output_type": "execute_result",
          "data": {
            "text/plain": [
              "pregnancies          11\n",
              "Glucose              11\n",
              "BloodPressure        11\n",
              "SkinThickness        11\n",
              "Insulin              11\n",
              "BMI                  11\n",
              "DiabetesPedigreeF    11\n",
              "Age                  11\n",
              "Outcome              11\n",
              "dtype: int64"
            ]
          },
          "metadata": {
            "tags": []
          },
          "execution_count": 36
        }
      ]
    },
    {
      "cell_type": "code",
      "metadata": {
        "id": "9z7y0Saux98n"
      },
      "source": [
        "df=data.copy()"
      ],
      "execution_count": 37,
      "outputs": []
    },
    {
      "cell_type": "code",
      "metadata": {
        "colab": {
          "base_uri": "https://localhost:8080/"
        },
        "id": "omKh0gaP8DFd",
        "outputId": "18d0a487-cdb0-4fa7-d0bb-78e83b5f1fc0"
      },
      "source": [
        "df.columns"
      ],
      "execution_count": 38,
      "outputs": [
        {
          "output_type": "execute_result",
          "data": {
            "text/plain": [
              "Index(['pregnancies', 'Glucose', 'BloodPressure', 'SkinThickness', 'Insulin',\n",
              "       'BMI', 'DiabetesPedigreeF', 'Age', 'Outcome'],\n",
              "      dtype='object')"
            ]
          },
          "metadata": {
            "tags": []
          },
          "execution_count": 38
        }
      ]
    },
    {
      "cell_type": "markdown",
      "metadata": {
        "id": "RTYIVkNSjV9R"
      },
      "source": [
        "### Removing Outlier"
      ]
    },
    {
      "cell_type": "code",
      "metadata": {
        "id": "0iuVegG2x9_Y"
      },
      "source": [
        "df.loc[df['pregnancies']>=13.5,\"pregnancies\"]=13.5"
      ],
      "execution_count": 39,
      "outputs": []
    },
    {
      "cell_type": "code",
      "metadata": {
        "colab": {
          "base_uri": "https://localhost:8080/",
          "height": 284
        },
        "id": "ifEA67YlW4pX",
        "outputId": "49baf297-a88f-40ab-8563-c2b89058558c"
      },
      "source": [
        "df.boxplot(column=\"pregnancies\")"
      ],
      "execution_count": 40,
      "outputs": [
        {
          "output_type": "execute_result",
          "data": {
            "text/plain": [
              "<matplotlib.axes._subplots.AxesSubplot at 0x7f3176f7d940>"
            ]
          },
          "metadata": {
            "tags": []
          },
          "execution_count": 40
        },
        {
          "output_type": "display_data",
          "data": {
            "image/png": "[encoded data removed]",
            "text/plain": [
              "<Figure size 432x288 with 1 Axes>"
            ]
          },
          "metadata": {
            "tags": [],
            "needs_background": "light"
          }
        }
      ]
    },
    {
      "cell_type": "code",
      "metadata": {
        "id": "E0qyqEofx-CU"
      },
      "source": [
        "df.loc[df['Glucose']>=1.089,\"Glucose\"]=1.0"
      ],
      "execution_count": 41,
      "outputs": []
    },
    {
      "cell_type": "code",
      "metadata": {
        "id": "QY4m-otaUx8R"
      },
      "source": [
        "df.loc[df['Glucose']<=.13,\"Glucose\"]=.13"
      ],
      "execution_count": 42,
      "outputs": []
    },
    {
      "cell_type": "code",
      "metadata": {
        "colab": {
          "base_uri": "https://localhost:8080/",
          "height": 282
        },
        "id": "QQjwNVH4bKuW",
        "outputId": "333fc282-473d-420c-dc01-a6330f7986e3"
      },
      "source": [
        "df.boxplot(column=\"Glucose\")"
      ],
      "execution_count": 43,
      "outputs": [
        {
          "output_type": "execute_result",
          "data": {
            "text/plain": [
              "<matplotlib.axes._subplots.AxesSubplot at 0x7f3176ee7940>"
            ]
          },
          "metadata": {
            "tags": []
          },
          "execution_count": 43
        },
        {
          "output_type": "display_data",
          "data": {
            "image/png": "[encoded data removed]",
            "text/plain": [
              "<Figure size 432x288 with 1 Axes>"
            ]
          },
          "metadata": {
            "tags": [],
            "needs_background": "light"
          }
        }
      ]
    },
    {
      "cell_type": "code",
      "metadata": {
        "id": "SY2Fj93Sx-FP"
      },
      "source": [
        "df.loc[df['SkinThickness']>=.808,'SkinThickness']=.808"
      ],
      "execution_count": 44,
      "outputs": []
    },
    {
      "cell_type": "code",
      "metadata": {
        "colab": {
          "base_uri": "https://localhost:8080/",
          "height": 282
        },
        "id": "O55q67APZbAt",
        "outputId": "90b10b46-77a6-40b5-9e8e-e867d82749fd"
      },
      "source": [
        "df.boxplot(column=\"SkinThickness\")"
      ],
      "execution_count": 45,
      "outputs": [
        {
          "output_type": "execute_result",
          "data": {
            "text/plain": [
              "<matplotlib.axes._subplots.AxesSubplot at 0x7f3176e4dac8>"
            ]
          },
          "metadata": {
            "tags": []
          },
          "execution_count": 45
        },
        {
          "output_type": "display_data",
          "data": {
            "image/png": "[encoded data removed]",
            "text/plain": [
              "<Figure size 432x288 with 1 Axes>"
            ]
          },
          "metadata": {
            "tags": [],
            "needs_background": "light"
          }
        }
      ]
    },
    {
      "cell_type": "code",
      "metadata": {
        "id": "CxVsdyMP9pLh"
      },
      "source": [
        "df.loc[df['Insulin']>=.376,'Insulin']=.376"
      ],
      "execution_count": 46,
      "outputs": []
    },
    {
      "cell_type": "code",
      "metadata": {
        "colab": {
          "base_uri": "https://localhost:8080/",
          "height": 282
        },
        "id": "iVmhf2MabVMh",
        "outputId": "e48a4e46-df7f-4a6c-ffd5-38c5e99a79d2"
      },
      "source": [
        "df.boxplot(column=\"Insulin\")"
      ],
      "execution_count": 47,
      "outputs": [
        {
          "output_type": "execute_result",
          "data": {
            "text/plain": [
              "<matplotlib.axes._subplots.AxesSubplot at 0x7f3176e1fba8>"
            ]
          },
          "metadata": {
            "tags": []
          },
          "execution_count": 47
        },
        {
          "output_type": "display_data",
          "data": {
            "image/png": "[encoded data removed]",
            "text/plain": [
              "<Figure size 432x288 with 1 Axes>"
            ]
          },
          "metadata": {
            "tags": [],
            "needs_background": "light"
          }
        }
      ]
    },
    {
      "cell_type": "code",
      "metadata": {
        "id": "348nckkr-Uwa"
      },
      "source": [
        "df.loc[df['BMI']>=.83,'BMI']=.83"
      ],
      "execution_count": 48,
      "outputs": []
    },
    {
      "cell_type": "code",
      "metadata": {
        "id": "y_yAwxVQVa3U"
      },
      "source": [
        "df.loc[df['BMI']<=.124,'BMI']=.124"
      ],
      "execution_count": 49,
      "outputs": []
    },
    {
      "cell_type": "code",
      "metadata": {
        "colab": {
          "base_uri": "https://localhost:8080/",
          "height": 282
        },
        "id": "K_R24_jUatiD",
        "outputId": "8a678bfa-c2a4-4b7e-80bd-ac030122184e"
      },
      "source": [
        "df.boxplot(column=\"BMI\")"
      ],
      "execution_count": 50,
      "outputs": [
        {
          "output_type": "execute_result",
          "data": {
            "text/plain": [
              "<matplotlib.axes._subplots.AxesSubplot at 0x7f3176d90550>"
            ]
          },
          "metadata": {
            "tags": []
          },
          "execution_count": 50
        },
        {
          "output_type": "display_data",
          "data": {
            "image/png": "[encoded data removed]",
            "text/plain": [
              "<Figure size 432x288 with 1 Axes>"
            ]
          },
          "metadata": {
            "tags": [],
            "needs_background": "light"
          }
        }
      ]
    },
    {
      "cell_type": "code",
      "metadata": {
        "id": "9DAHPDp--U8d"
      },
      "source": [
        "df.loc[df['DiabetesPedigreeF']>=.48,'DiabetesPedigreeF']=.48"
      ],
      "execution_count": 51,
      "outputs": []
    },
    {
      "cell_type": "code",
      "metadata": {
        "colab": {
          "base_uri": "https://localhost:8080/",
          "height": 285
        },
        "id": "Ca1m5axSakgW",
        "outputId": "93fd3408-fd17-4217-cd93-678068ace9d9"
      },
      "source": [
        "df.boxplot(column=\"DiabetesPedigreeF\")"
      ],
      "execution_count": 52,
      "outputs": [
        {
          "output_type": "execute_result",
          "data": {
            "text/plain": [
              "<matplotlib.axes._subplots.AxesSubplot at 0x7f3176e0f3c8>"
            ]
          },
          "metadata": {
            "tags": []
          },
          "execution_count": 52
        },
        {
          "output_type": "display_data",
          "data": {
            "image/png": "[encoded data removed]",
            "text/plain": [
              "<Figure size 432x288 with 1 Axes>"
            ]
          },
          "metadata": {
            "tags": [],
            "needs_background": "light"
          }
        }
      ]
    },
    {
      "cell_type": "code",
      "metadata": {
        "id": "ufNkC5XP-VAC"
      },
      "source": [
        "df.loc[df['Age']>=66.5,'Age']=66.5"
      ],
      "execution_count": 53,
      "outputs": []
    },
    {
      "cell_type": "code",
      "metadata": {
        "colab": {
          "base_uri": "https://localhost:8080/",
          "height": 282
        },
        "id": "FjPkKmr8aX5k",
        "outputId": "00fc7ec2-0222-4c50-dd23-215aa3285e3c"
      },
      "source": [
        "df.boxplot(column=\"Age\")"
      ],
      "execution_count": 54,
      "outputs": [
        {
          "output_type": "execute_result",
          "data": {
            "text/plain": [
              "<matplotlib.axes._subplots.AxesSubplot at 0x7f3176cc1358>"
            ]
          },
          "metadata": {
            "tags": []
          },
          "execution_count": 54
        },
        {
          "output_type": "display_data",
          "data": {
            "image/png": "[encoded data removed]",
            "text/plain": [
              "<Figure size 432x288 with 1 Axes>"
            ]
          },
          "metadata": {
            "tags": [],
            "needs_background": "light"
          }
        }
      ]
    },
    {
      "cell_type": "code",
      "metadata": {
        "id": "BvYPDmnsTuK3"
      },
      "source": [
        "df.loc[df['BloodPressure']>=1.04,'BloodPressure']=1.0"
      ],
      "execution_count": 55,
      "outputs": []
    },
    {
      "cell_type": "code",
      "metadata": {
        "id": "J18BuskZUIXA"
      },
      "source": [
        "df.loc[df['BloodPressure']<=.09,'BloodPressure']=.09"
      ],
      "execution_count": 56,
      "outputs": []
    },
    {
      "cell_type": "code",
      "metadata": {
        "colab": {
          "base_uri": "https://localhost:8080/",
          "height": 282
        },
        "id": "4zO5vC4obfep",
        "outputId": "0886ff09-009e-4c63-b5f0-facb866d5d1a"
      },
      "source": [
        "df.boxplot(column=\"BloodPressure\")"
      ],
      "execution_count": 57,
      "outputs": [
        {
          "output_type": "execute_result",
          "data": {
            "text/plain": [
              "<matplotlib.axes._subplots.AxesSubplot at 0x7f31772979e8>"
            ]
          },
          "metadata": {
            "tags": []
          },
          "execution_count": 57
        },
        {
          "output_type": "display_data",
          "data": {
            "image/png": "[encoded data removed]",
            "text/plain": [
              "<Figure size 432x288 with 1 Axes>"
            ]
          },
          "metadata": {
            "tags": [],
            "needs_background": "light"
          }
        }
      ]
    },
    {
      "cell_type": "markdown",
      "metadata": {
        "id": "3ec2OhmQpL8M"
      },
      "source": [
        "### After Treating the Outlier , The resulting table "
      ]
    },
    {
      "cell_type": "code",
      "metadata": {
        "colab": {
          "base_uri": "https://localhost:8080/",
          "height": 328
        },
        "id": "fJRuFxcc_0o7",
        "outputId": "0ffcba36-c904-4ede-aac5-051590a7680e"
      },
      "source": [
        "df.describe().T"
      ],
      "execution_count": 58,
      "outputs": [
        {
          "output_type": "execute_result",
          "data": {
            "text/html": [
              "<div>\n",
              "<style scoped>\n",
              "    .dataframe tbody tr th:only-of-type {\n",
              "        vertical-align: middle;\n",
              "    }\n",
              "\n",
              "    .dataframe tbody tr th {\n",
              "        vertical-align: top;\n",
              "    }\n",
              "\n",
              "    .dataframe thead th {\n",
              "        text-align: right;\n",
              "    }\n",
              "</style>\n",
              "<table border=\"1\" class=\"dataframe\">\n",
              "  <thead>\n",
              "    <tr style=\"text-align: right;\">\n",
              "      <th></th>\n",
              "      <th>count</th>\n",
              "      <th>mean</th>\n",
              "      <th>std</th>\n",
              "      <th>min</th>\n",
              "      <th>25%</th>\n",
              "      <th>50%</th>\n",
              "      <th>75%</th>\n",
              "      <th>max</th>\n",
              "    </tr>\n",
              "  </thead>\n",
              "  <tbody>\n",
              "    <tr>\n",
              "      <th>pregnancies</th>\n",
              "      <td>768.0</td>\n",
              "      <td>3.837240</td>\n",
              "      <td>3.344157</td>\n",
              "      <td>0.000</td>\n",
              "      <td>1.000000</td>\n",
              "      <td>3.000000</td>\n",
              "      <td>6.000000</td>\n",
              "      <td>13.500</td>\n",
              "    </tr>\n",
              "    <tr>\n",
              "      <th>Glucose</th>\n",
              "      <td>768.0</td>\n",
              "      <td>0.608357</td>\n",
              "      <td>0.157777</td>\n",
              "      <td>0.130</td>\n",
              "      <td>0.497487</td>\n",
              "      <td>0.587940</td>\n",
              "      <td>0.704774</td>\n",
              "      <td>1.000</td>\n",
              "    </tr>\n",
              "    <tr>\n",
              "      <th>BloodPressure</th>\n",
              "      <td>768.0</td>\n",
              "      <td>0.570540</td>\n",
              "      <td>0.144469</td>\n",
              "      <td>0.090</td>\n",
              "      <td>0.508197</td>\n",
              "      <td>0.590164</td>\n",
              "      <td>0.655738</td>\n",
              "      <td>1.000</td>\n",
              "    </tr>\n",
              "    <tr>\n",
              "      <th>SkinThickness</th>\n",
              "      <td>768.0</td>\n",
              "      <td>0.207939</td>\n",
              "      <td>0.161507</td>\n",
              "      <td>0.000</td>\n",
              "      <td>0.000000</td>\n",
              "      <td>0.232323</td>\n",
              "      <td>0.323232</td>\n",
              "      <td>0.808</td>\n",
              "    </tr>\n",
              "    <tr>\n",
              "      <th>Insulin</th>\n",
              "      <td>768.0</td>\n",
              "      <td>0.087058</td>\n",
              "      <td>0.110606</td>\n",
              "      <td>0.000</td>\n",
              "      <td>0.000000</td>\n",
              "      <td>0.036052</td>\n",
              "      <td>0.150414</td>\n",
              "      <td>0.376</td>\n",
              "    </tr>\n",
              "    <tr>\n",
              "      <th>BMI</th>\n",
              "      <td>768.0</td>\n",
              "      <td>0.478241</td>\n",
              "      <td>0.109803</td>\n",
              "      <td>0.124</td>\n",
              "      <td>0.406855</td>\n",
              "      <td>0.476900</td>\n",
              "      <td>0.545455</td>\n",
              "      <td>0.830</td>\n",
              "    </tr>\n",
              "    <tr>\n",
              "      <th>DiabetesPedigreeF</th>\n",
              "      <td>768.0</td>\n",
              "      <td>0.162680</td>\n",
              "      <td>0.122036</td>\n",
              "      <td>0.000</td>\n",
              "      <td>0.070773</td>\n",
              "      <td>0.125747</td>\n",
              "      <td>0.234095</td>\n",
              "      <td>0.480</td>\n",
              "    </tr>\n",
              "    <tr>\n",
              "      <th>Age</th>\n",
              "      <td>768.0</td>\n",
              "      <td>33.281901</td>\n",
              "      <td>11.735443</td>\n",
              "      <td>21.000</td>\n",
              "      <td>24.000000</td>\n",
              "      <td>29.000000</td>\n",
              "      <td>41.000000</td>\n",
              "      <td>66.500</td>\n",
              "    </tr>\n",
              "    <tr>\n",
              "      <th>Outcome</th>\n",
              "      <td>768.0</td>\n",
              "      <td>0.348958</td>\n",
              "      <td>0.476951</td>\n",
              "      <td>0.000</td>\n",
              "      <td>0.000000</td>\n",
              "      <td>0.000000</td>\n",
              "      <td>1.000000</td>\n",
              "      <td>1.000</td>\n",
              "    </tr>\n",
              "  </tbody>\n",
              "</table>\n",
              "</div>"
            ],
            "text/plain": [
              "                   count       mean        std  ...        50%        75%     max\n",
              "pregnancies        768.0   3.837240   3.344157  ...   3.000000   6.000000  13.500\n",
              "Glucose            768.0   0.608357   0.157777  ...   0.587940   0.704774   1.000\n",
              "BloodPressure      768.0   0.570540   0.144469  ...   0.590164   0.655738   1.000\n",
              "SkinThickness      768.0   0.207939   0.161507  ...   0.232323   0.323232   0.808\n",
              "Insulin            768.0   0.087058   0.110606  ...   0.036052   0.150414   0.376\n",
              "BMI                768.0   0.478241   0.109803  ...   0.476900   0.545455   0.830\n",
              "DiabetesPedigreeF  768.0   0.162680   0.122036  ...   0.125747   0.234095   0.480\n",
              "Age                768.0  33.281901  11.735443  ...  29.000000  41.000000  66.500\n",
              "Outcome            768.0   0.348958   0.476951  ...   0.000000   1.000000   1.000\n",
              "\n",
              "[9 rows x 8 columns]"
            ]
          },
          "metadata": {
            "tags": []
          },
          "execution_count": 58
        }
      ]
    },
    {
      "cell_type": "code",
      "metadata": {
        "colab": {
          "base_uri": "https://localhost:8080/"
        },
        "id": "EitkEByJ_2o-",
        "outputId": "da7a48f9-a89c-4177-cc0f-920975d5cc53"
      },
      "source": [
        "df['Outcome'].value_counts()"
      ],
      "execution_count": 59,
      "outputs": [
        {
          "output_type": "execute_result",
          "data": {
            "text/plain": [
              "0    500\n",
              "1    268\n",
              "Name: Outcome, dtype: int64"
            ]
          },
          "metadata": {
            "tags": []
          },
          "execution_count": 59
        }
      ]
    },
    {
      "cell_type": "code",
      "metadata": {
        "colab": {
          "base_uri": "https://localhost:8080/"
        },
        "id": "TZA6L8_VAkOb",
        "outputId": "5bbdad0e-a25b-4137-a7d9-7f1e46e2fa85"
      },
      "source": [
        "#Checking percentage of different values n the columns\n",
        "(data['Outcome'].value_counts()/data[\"Outcome\"].count())*100"
      ],
      "execution_count": 60,
      "outputs": [
        {
          "output_type": "execute_result",
          "data": {
            "text/plain": [
              "0    65.104167\n",
              "1    34.895833\n",
              "Name: Outcome, dtype: float64"
            ]
          },
          "metadata": {
            "tags": []
          },
          "execution_count": 60
        }
      ]
    },
    {
      "cell_type": "markdown",
      "metadata": {
        "id": "AyfzUCtVBM_Q"
      },
      "source": [
        "### Model without balanceing Data"
      ]
    },
    {
      "cell_type": "code",
      "metadata": {
        "id": "0xc8X-tYBQA1"
      },
      "source": [
        "## Drop the label data\n",
        "X=df.drop('Outcome',axis=1)\n",
        "y=df['Outcome']"
      ],
      "execution_count": 61,
      "outputs": []
    },
    {
      "cell_type": "code",
      "metadata": {
        "colab": {
          "base_uri": "https://localhost:8080/"
        },
        "id": "PLXKe-S3QJPy",
        "outputId": "5c2ff57e-6dee-4e71-e46d-529c48a026e3"
      },
      "source": [
        "X.shape , y.shape\n"
      ],
      "execution_count": 62,
      "outputs": [
        {
          "output_type": "execute_result",
          "data": {
            "text/plain": [
              "((768, 8), (768,))"
            ]
          },
          "metadata": {
            "tags": []
          },
          "execution_count": 62
        }
      ]
    },
    {
      "cell_type": "code",
      "metadata": {
        "colab": {
          "base_uri": "https://localhost:8080/"
        },
        "id": "pSYQxYttW4pa",
        "outputId": "3c23a7c7-3044-4b54-d235-6af47ebdeb0f"
      },
      "source": [
        "X.columns"
      ],
      "execution_count": 63,
      "outputs": [
        {
          "output_type": "execute_result",
          "data": {
            "text/plain": [
              "Index(['pregnancies', 'Glucose', 'BloodPressure', 'SkinThickness', 'Insulin',\n",
              "       'BMI', 'DiabetesPedigreeF', 'Age'],\n",
              "      dtype='object')"
            ]
          },
          "metadata": {
            "tags": []
          },
          "execution_count": 63
        }
      ]
    },
    {
      "cell_type": "code",
      "metadata": {
        "id": "hBJZS81lQRgx"
      },
      "source": [
        "## Splitting the dataset\n",
        "from sklearn.model_selection import train_test_split\n",
        "X_train,X_test,y_train,y_test=train_test_split(X,y,test_size=.30,random_state=42)"
      ],
      "execution_count": 64,
      "outputs": []
    },
    {
      "cell_type": "code",
      "metadata": {
        "colab": {
          "base_uri": "https://localhost:8080/"
        },
        "id": "6mIcTsIoRVOL",
        "outputId": "25c98d37-6f3f-4102-f628-829cfeee7a3a"
      },
      "source": [
        "#fitting the training data\n",
        "from sklearn.preprocessing import StandardScaler\n",
        "scaler=StandardScaler()\n",
        "scaler.fit(X_train)\n"
      ],
      "execution_count": 65,
      "outputs": [
        {
          "output_type": "execute_result",
          "data": {
            "text/plain": [
              "StandardScaler(copy=True, with_mean=True, with_std=True)"
            ]
          },
          "metadata": {
            "tags": []
          },
          "execution_count": 65
        }
      ]
    },
    {
      "cell_type": "code",
      "metadata": {
        "id": "TSvNhlyuSHLj"
      },
      "source": [
        "# fitting X_train and X_test data\n",
        "X_train=scaler.transform(X_train)\n",
        "X_test=scaler.transform(X_test)"
      ],
      "execution_count": 66,
      "outputs": []
    },
    {
      "cell_type": "code",
      "metadata": {
        "colab": {
          "base_uri": "https://localhost:8080/"
        },
        "id": "zc-_OJt-Slqo",
        "outputId": "74240dbd-da31-4dc0-fa0c-cf2f81472446"
      },
      "source": [
        "## Implementing the model \n",
        "from sklearn.neural_network import MLPClassifier\n",
        "mlp=MLPClassifier(hidden_layer_sizes=(10,10,10),activation='relu',solver='adam',max_iter=300)\n",
        "mlp.fit(X_train,y_train)"
      ],
      "execution_count": 149,
      "outputs": [
        {
          "output_type": "execute_result",
          "data": {
            "text/plain": [
              "MLPClassifier(activation='relu', alpha=0.0001, batch_size='auto', beta_1=0.9,\n",
              "              beta_2=0.999, early_stopping=False, epsilon=1e-08,\n",
              "              hidden_layer_sizes=(10, 10, 10), learning_rate='constant',\n",
              "              learning_rate_init=0.001, max_fun=15000, max_iter=300,\n",
              "              momentum=0.9, n_iter_no_change=10, nesterovs_momentum=True,\n",
              "              power_t=0.5, random_state=None, shuffle=True, solver='adam',\n",
              "              tol=0.0001, validation_fraction=0.1, verbose=False,\n",
              "              warm_start=False)"
            ]
          },
          "metadata": {
            "tags": []
          },
          "execution_count": 149
        }
      ]
    },
    {
      "cell_type": "code",
      "metadata": {
        "colab": {
          "base_uri": "https://localhost:8080/"
        },
        "id": "QLTSLxk7Vl-W",
        "outputId": "76e82623-ea65-455d-c16e-428e050557e2"
      },
      "source": [
        "## Checking the model Performances\n",
        "from sklearn.metrics import accuracy_score,classification_report,roc_auc_score,confusion_matrix\n",
        "y_pred=mlp.predict(X_test)\n",
        "accuracy=accuracy_score(y_test,y_pred)\n",
        "print(\"Accuracy score: \\t {:.2f} %\".format(accuracy*100))\n",
        "print(\"Classification score \\n {}\".format(classification_report(y_test,y_pred)))\n",
        "print(\"ROC score: \\t {:.2f} %\".format(roc_auc_score(y_test,y_pred)*100))\n",
        "print(\"Confusion Matrix: \\n {}\".format(confusion_matrix(y_test,y_pred)))"
      ],
      "execution_count": 150,
      "outputs": [
        {
          "output_type": "stream",
          "text": [
            "Accuracy score: \t 76.62 %\n",
            "Classification score \n",
            "               precision    recall  f1-score   support\n",
            "\n",
            "           0       0.82      0.83      0.82       151\n",
            "           1       0.67      0.65      0.66        80\n",
            "\n",
            "    accuracy                           0.77       231\n",
            "   macro avg       0.74      0.74      0.74       231\n",
            "weighted avg       0.76      0.77      0.77       231\n",
            "\n",
            "ROC score: \t 73.89 %\n",
            "Confusion Matrix: \n",
            " [[125  26]\n",
            " [ 28  52]]\n"
          ],
          "name": "stdout"
        }
      ]
    },
    {
      "cell_type": "markdown",
      "metadata": {
        "id": "5hgDGm_NAQRm"
      },
      "source": [
        "### Implement K-fold Cross Validation to see the model performances"
      ]
    },
    {
      "cell_type": "code",
      "metadata": {
        "colab": {
          "base_uri": "https://localhost:8080/"
        },
        "id": "yyrJE5NzZjIQ",
        "outputId": "60681199-94e3-46ae-a666-ad9e58ab786b"
      },
      "source": [
        "##Checking the model performances using K-fold \n",
        "from sklearn.model_selection import cross_val_score\n",
        "accuracy=cross_val_score(estimator=mlp, X=X_train,y=y_train,cv=10)\n",
        "print(\"Accuracy of the model:\\t {:.2f} %\".format(accuracy.mean()*100))\n",
        "print(\"Standard deviation of the model:\\t {:.2f}%\".format(accuracy.std()*100))"
      ],
      "execution_count": 151,
      "outputs": [
        {
          "output_type": "stream",
          "text": [
            "Accuracy of the model:\t 76.91 %\n",
            "Standard deviation of the model:\t 5.19%\n"
          ],
          "name": "stdout"
        }
      ]
    },
    {
      "cell_type": "markdown",
      "metadata": {
        "id": "6YTrD3FRPLTv"
      },
      "source": [
        "### Applying GridSerachCV to get the best modell and parameters"
      ]
    },
    {
      "cell_type": "code",
      "metadata": {
        "id": "Yptbau5ePivD"
      },
      "source": [
        "#Implementing Gird SearchCV\n",
        "import numpy as np\n",
        "from sklearn.model_selection import GridSearchCV\n",
        "parameters={'hidden_layer_sizes':[(5,5,5),(10,10,10),(15,15,15),(20,20,20)],\n",
        "            'activation':['identity', 'logistic', 'tanh', 'relu'],\n",
        "            'solver': ['lbfgs', 'sgd', 'adam'],\n",
        "            'learning_rate':['constant', 'invscaling', 'adaptive'],\n",
        "            'alpha':[0.005,0.0001],\n",
        "           }\n",
        "\n"
      ],
      "execution_count": 152,
      "outputs": []
    },
    {
      "cell_type": "code",
      "metadata": {
        "id": "7dRrhr76Tc7m"
      },
      "source": [
        "grid_search=GridSearchCV(estimator=mlp,param_grid=parameters,scoring='accuracy',n_jobs=-1,cv=10)\n",
        "\n"
      ],
      "execution_count": 153,
      "outputs": []
    },
    {
      "cell_type": "code",
      "metadata": {
        "colab": {
          "base_uri": "https://localhost:8080/"
        },
        "id": "p2jdniEdTc7m",
        "outputId": "89b152ce-f6db-4603-c975-1e483638b941"
      },
      "source": [
        "grid_search.fit(X_train,y_train)\n",
        "\n"
      ],
      "execution_count": 154,
      "outputs": [
        {
          "output_type": "execute_result",
          "data": {
            "text/plain": [
              "GridSearchCV(cv=10, error_score=nan,\n",
              "             estimator=MLPClassifier(activation='relu', alpha=0.0001,\n",
              "                                     batch_size='auto', beta_1=0.9,\n",
              "                                     beta_2=0.999, early_stopping=False,\n",
              "                                     epsilon=1e-08,\n",
              "                                     hidden_layer_sizes=(10, 10, 10),\n",
              "                                     learning_rate='constant',\n",
              "                                     learning_rate_init=0.001, max_fun=15000,\n",
              "                                     max_iter=300, momentum=0.9,\n",
              "                                     n_iter_no_change=10,\n",
              "                                     nesterovs_momentum=True, power_t=0.5,\n",
              "                                     random_...\n",
              "             iid='deprecated', n_jobs=-1,\n",
              "             param_grid={'activation': ['identity', 'logistic', 'tanh', 'relu'],\n",
              "                         'alpha': [0.005, 0.0001],\n",
              "                         'hidden_layer_sizes': [(5, 5, 5), (10, 10, 10),\n",
              "                                                (15, 15, 15), (20, 20, 20)],\n",
              "                         'learning_rate': ['constant', 'invscaling',\n",
              "                                           'adaptive'],\n",
              "                         'solver': ['lbfgs', 'sgd', 'adam']},\n",
              "             pre_dispatch='2*n_jobs', refit=True, return_train_score=False,\n",
              "             scoring='accuracy', verbose=0)"
            ]
          },
          "metadata": {
            "tags": []
          },
          "execution_count": 154
        }
      ]
    },
    {
      "cell_type": "code",
      "metadata": {
        "colab": {
          "base_uri": "https://localhost:8080/"
        },
        "id": "c8OCvwQdTYRP",
        "outputId": "ae06d59a-4d18-4d44-c562-bbe1a4be7bdc"
      },
      "source": [
        "accuracy=grid_search.best_score_\n",
        "print(accuracy)"
      ],
      "execution_count": 155,
      "outputs": [
        {
          "output_type": "stream",
          "text": [
            "0.7858490566037737\n"
          ],
          "name": "stdout"
        }
      ]
    },
    {
      "cell_type": "code",
      "metadata": {
        "colab": {
          "base_uri": "https://localhost:8080/"
        },
        "id": "UDYwWo4MXTbx",
        "outputId": "8e2c4e43-1605-4d1d-aa40-c0fb79bf5d76"
      },
      "source": [
        "grid_search.best_params_"
      ],
      "execution_count": 156,
      "outputs": [
        {
          "output_type": "execute_result",
          "data": {
            "text/plain": [
              "{'activation': 'identity',\n",
              " 'alpha': 0.0001,\n",
              " 'hidden_layer_sizes': (10, 10, 10),\n",
              " 'learning_rate': 'adaptive',\n",
              " 'solver': 'adam'}"
            ]
          },
          "metadata": {
            "tags": []
          },
          "execution_count": 156
        }
      ]
    },
    {
      "cell_type": "markdown",
      "metadata": {
        "id": "KhG0679Hc7fi"
      },
      "source": [
        "### Reimplementing the model with the best parameters"
      ]
    },
    {
      "cell_type": "code",
      "metadata": {
        "colab": {
          "base_uri": "https://localhost:8080/"
        },
        "id": "fyzHQhi8Zp0m",
        "outputId": "b4a3eb24-2649-4161-fd8c-91307caf8bf4"
      },
      "source": [
        "#Implementing the model\n",
        "mlp1=MLPClassifier(activation= 'identity',alpha=0.0001, hidden_layer_sizes=(10,10,10),learning_rate='adaptive',solver= 'adam',max_iter=300)\n",
        "mlp1.fit(X_train,y_train)"
      ],
      "execution_count": 201,
      "outputs": [
        {
          "output_type": "execute_result",
          "data": {
            "text/plain": [
              "MLPClassifier(activation='identity', alpha=0.0001, batch_size='auto',\n",
              "              beta_1=0.9, beta_2=0.999, early_stopping=False, epsilon=1e-08,\n",
              "              hidden_layer_sizes=(10, 10, 10), learning_rate='adaptive',\n",
              "              learning_rate_init=0.001, max_fun=15000, max_iter=300,\n",
              "              momentum=0.9, n_iter_no_change=10, nesterovs_momentum=True,\n",
              "              power_t=0.5, random_state=None, shuffle=True, solver='adam',\n",
              "              tol=0.0001, validation_fraction=0.1, verbose=False,\n",
              "              warm_start=False)"
            ]
          },
          "metadata": {
            "tags": []
          },
          "execution_count": 201
        }
      ]
    },
    {
      "cell_type": "code",
      "metadata": {
        "colab": {
          "base_uri": "https://localhost:8080/"
        },
        "id": "0Oqs3W33atek",
        "outputId": "5833920e-7225-4168-941a-08e518a40ac2"
      },
      "source": [
        "## Checking the model Performances\n",
        "y_pred=mlp1.predict(X_test)\n",
        "accuracy=accuracy_score(y_test,y_pred)\n",
        "print(\"Accuracy score: \\t {:.2f} %\".format(accuracy*100))\n",
        "print(\"Classification Report \\n {}\".format(classification_report(y_test,y_pred)))\n",
        "print(\"ROC score: \\t {:.2f} %\".format(roc_auc_score(y_test,y_pred)*100))\n",
        "print(\"Confusion Matrix: \\n {}\".format(confusion_matrix(y_test,y_pred)))"
      ],
      "execution_count": 202,
      "outputs": [
        {
          "output_type": "stream",
          "text": [
            "Accuracy score: \t 74.46 %\n",
            "Classification Report \n",
            "               precision    recall  f1-score   support\n",
            "\n",
            "           0       0.80      0.81      0.81       151\n",
            "           1       0.63      0.62      0.63        80\n",
            "\n",
            "    accuracy                           0.74       231\n",
            "   macro avg       0.72      0.72      0.72       231\n",
            "weighted avg       0.74      0.74      0.74       231\n",
            "\n",
            "ROC score: \t 71.65 %\n",
            "Confusion Matrix: \n",
            " [[122  29]\n",
            " [ 30  50]]\n"
          ],
          "name": "stdout"
        }
      ]
    },
    {
      "cell_type": "markdown",
      "metadata": {
        "id": "CEbMSdEgcCir"
      },
      "source": [
        "### Model with balanceing Data using Over Sampling(for the purpose of checking)"
      ]
    },
    {
      "cell_type": "code",
      "metadata": {
        "id": "YHD-fi9UcI-_"
      },
      "source": [
        "## Performing oversampling and importing the file\n",
        "from imblearn.over_sampling import RandomOverSampler\n",
        "from collections import Counter"
      ],
      "execution_count": 203,
      "outputs": []
    },
    {
      "cell_type": "code",
      "metadata": {
        "colab": {
          "base_uri": "https://localhost:8080/"
        },
        "id": "m2VC8nS0cJPQ",
        "outputId": "ea8d42fe-fdb0-49c5-c1cf-bdbf442d12c5"
      },
      "source": [
        "## Performing oversampling\n",
        "rs=RandomOverSampler(.75)\n",
        "X_train_RS, y_train_RS=rs.fit_sample(X_train,y_train)\n",
        "print(\"class before fit{}\".format(Counter(y_train)))\n",
        "print(\"class after fit{}\".format(Counter(y_train_RS)))"
      ],
      "execution_count": 204,
      "outputs": [
        {
          "output_type": "stream",
          "text": [
            "class before fitCounter({0: 349, 1: 188})\n",
            "class after fitCounter({0: 349, 1: 261})\n"
          ],
          "name": "stdout"
        }
      ]
    },
    {
      "cell_type": "code",
      "metadata": {
        "colab": {
          "base_uri": "https://localhost:8080/"
        },
        "id": "Yt6g-aw_cJSK",
        "outputId": "fe973608-c9ba-43d6-8c54-5138fce70b1f"
      },
      "source": [
        "# Implementing the model\n",
        "from sklearn.neural_network import MLPClassifier\n",
        "mlp_RS=MLPClassifier(hidden_layer_sizes=(10,10,10),activation='relu',solver='adam',max_iter=300)\n",
        "mlp_RS.fit(X_train_RS,y_train_RS)"
      ],
      "execution_count": 205,
      "outputs": [
        {
          "output_type": "execute_result",
          "data": {
            "text/plain": [
              "MLPClassifier(activation='relu', alpha=0.0001, batch_size='auto', beta_1=0.9,\n",
              "              beta_2=0.999, early_stopping=False, epsilon=1e-08,\n",
              "              hidden_layer_sizes=(10, 10, 10), learning_rate='constant',\n",
              "              learning_rate_init=0.001, max_fun=15000, max_iter=300,\n",
              "              momentum=0.9, n_iter_no_change=10, nesterovs_momentum=True,\n",
              "              power_t=0.5, random_state=None, shuffle=True, solver='adam',\n",
              "              tol=0.0001, validation_fraction=0.1, verbose=False,\n",
              "              warm_start=False)"
            ]
          },
          "metadata": {
            "tags": []
          },
          "execution_count": 205
        }
      ]
    },
    {
      "cell_type": "code",
      "metadata": {
        "colab": {
          "base_uri": "https://localhost:8080/"
        },
        "id": "uCKMjLo4vD81",
        "outputId": "8153526c-3eca-4444-b8f3-96459282efb0"
      },
      "source": [
        "## Checking the model Performances\n",
        "from sklearn.metrics import accuracy_score,classification_report,roc_auc_score,confusion_matrix\n",
        "y_pred=mlp_RS.predict(X_test)\n",
        "print(\"Accuracy score: \\t {}\".format(accuracy_score(y_test,y_pred)))\n",
        "print(\"Classification score \\n {}\".format(classification_report(y_test,y_pred)))\n",
        "print(\"ROC score: \\t {}\".format(roc_auc_score(y_test,y_pred)))\n",
        "print(\"Confusion Matrix: \\n {}\".format(confusion_matrix(y_test,y_pred)))"
      ],
      "execution_count": 206,
      "outputs": [
        {
          "output_type": "stream",
          "text": [
            "Accuracy score: \t 0.7489177489177489\n",
            "Classification score \n",
            "               precision    recall  f1-score   support\n",
            "\n",
            "           0       0.84      0.76      0.80       151\n",
            "           1       0.62      0.72      0.67        80\n",
            "\n",
            "    accuracy                           0.75       231\n",
            "   macro avg       0.73      0.74      0.73       231\n",
            "weighted avg       0.76      0.75      0.75       231\n",
            "\n",
            "ROC score: \t 0.743294701986755\n",
            "Confusion Matrix: \n",
            " [[115  36]\n",
            " [ 22  58]]\n"
          ],
          "name": "stdout"
        }
      ]
    },
    {
      "cell_type": "markdown",
      "metadata": {
        "id": "cy_vkyEzAru6"
      },
      "source": [
        "### Implement K-fold Cross Validation to see the model performances"
      ]
    },
    {
      "cell_type": "code",
      "metadata": {
        "colab": {
          "base_uri": "https://localhost:8080/"
        },
        "id": "cQC03i6evWWw",
        "outputId": "5ce4740d-9a0d-4ca1-b932-db19e7f7fe9f"
      },
      "source": [
        "## Checking the model performance  using the K-fold\n",
        "from sklearn.model_selection import cross_val_score\n",
        "accuracy=cross_val_score(estimator=mlp_RS, X=X_train_RS,y=y_train_RS,cv=10)\n",
        "print(\"Accuracy of the model:\\t {:.2f} %\".format(accuracy.mean()*100))\n",
        "print(\"Standard deviation of the model:\\t {:.2f}%\".format(accuracy.std()*100))"
      ],
      "execution_count": 208,
      "outputs": [
        {
          "output_type": "stream",
          "text": [
            "Accuracy of the model:\t 75.74 %\n",
            "Standard deviation of the model:\t 4.57%\n"
          ],
          "name": "stdout"
        }
      ]
    },
    {
      "cell_type": "markdown",
      "metadata": {
        "id": "uoj8jkv5lz8J"
      },
      "source": [
        "### Implementing GridSearchCV to get the best parameters"
      ]
    },
    {
      "cell_type": "code",
      "metadata": {
        "colab": {
          "base_uri": "https://localhost:8080/"
        },
        "id": "fqSHDI01l9Rk",
        "outputId": "ba78ce4d-94aa-434e-feca-02e0c5e653c9"
      },
      "source": [
        "from sklearn.model_selection import GridSearchCV\n",
        "parameters={'hidden_layer_sizes':[(5,5,5),(10,10,10),(15,15,15),(20,20,20)],\n",
        "            'activation':['identity', 'logistic', 'tanh', 'relu'],\n",
        "            'solver': ['lbfgs', 'sgd', 'adam'],\n",
        "            'learning_rate':['constant', 'invscaling', 'adaptive'],\n",
        "            'alpha':[0.005,0.0001],\n",
        "           }\n",
        "\n",
        "grid_search=GridSearchCV(estimator=mlp_RS,param_grid=parameters,scoring='accuracy',n_jobs=-1,cv=10)\n",
        "grid_search.fit(X_train_RS,y_train_RS)\n"
      ],
      "execution_count": 209,
      "outputs": [
        {
          "output_type": "execute_result",
          "data": {
            "text/plain": [
              "GridSearchCV(cv=10, error_score=nan,\n",
              "             estimator=MLPClassifier(activation='relu', alpha=0.0001,\n",
              "                                     batch_size='auto', beta_1=0.9,\n",
              "                                     beta_2=0.999, early_stopping=False,\n",
              "                                     epsilon=1e-08,\n",
              "                                     hidden_layer_sizes=(10, 10, 10),\n",
              "                                     learning_rate='constant',\n",
              "                                     learning_rate_init=0.001, max_fun=15000,\n",
              "                                     max_iter=300, momentum=0.9,\n",
              "                                     n_iter_no_change=10,\n",
              "                                     nesterovs_momentum=True, power_t=0.5,\n",
              "                                     random_...\n",
              "             iid='deprecated', n_jobs=-1,\n",
              "             param_grid={'activation': ['identity', 'logistic', 'tanh', 'relu'],\n",
              "                         'alpha': [0.005, 0.0001],\n",
              "                         'hidden_layer_sizes': [(5, 5, 5), (10, 10, 10),\n",
              "                                                (15, 15, 15), (20, 20, 20)],\n",
              "                         'learning_rate': ['constant', 'invscaling',\n",
              "                                           'adaptive'],\n",
              "                         'solver': ['lbfgs', 'sgd', 'adam']},\n",
              "             pre_dispatch='2*n_jobs', refit=True, return_train_score=False,\n",
              "             scoring='accuracy', verbose=0)"
            ]
          },
          "metadata": {
            "tags": []
          },
          "execution_count": 209
        }
      ]
    },
    {
      "cell_type": "code",
      "metadata": {
        "colab": {
          "base_uri": "https://localhost:8080/"
        },
        "id": "sKc46wBTcigJ",
        "outputId": "c52a4c9f-b93e-4534-9464-a4b68b0352ff"
      },
      "source": [
        "## Getting the best accuracy rate\n",
        "accuracy=grid_search.best_score_\n",
        "print(accuracy)"
      ],
      "execution_count": 210,
      "outputs": [
        {
          "output_type": "stream",
          "text": [
            "0.7950819672131147\n"
          ],
          "name": "stdout"
        }
      ]
    },
    {
      "cell_type": "code",
      "metadata": {
        "colab": {
          "base_uri": "https://localhost:8080/"
        },
        "id": "Qlpuy8ACetBw",
        "outputId": "51323890-3ce2-44f5-c9a0-fabb118cf46b"
      },
      "source": [
        "## Getting the best Parameter\n",
        "grid_search.best_params_"
      ],
      "execution_count": 211,
      "outputs": [
        {
          "output_type": "execute_result",
          "data": {
            "text/plain": [
              "{'activation': 'relu',\n",
              " 'alpha': 0.0001,\n",
              " 'hidden_layer_sizes': (20, 20, 20),\n",
              " 'learning_rate': 'adaptive',\n",
              " 'solver': 'adam'}"
            ]
          },
          "metadata": {
            "tags": []
          },
          "execution_count": 211
        }
      ]
    },
    {
      "cell_type": "markdown",
      "metadata": {
        "id": "CLHqyMy2fLsp"
      },
      "source": [
        "###Reimplementing the model with the best parameters for banlance dataset"
      ]
    },
    {
      "cell_type": "code",
      "metadata": {
        "id": "G-h7L-vme9pb"
      },
      "source": [
        "#Implementing the model\n",
        "mlp_RS=MLPClassifier(activation= 'relu',alpha=0.0001, hidden_layer_sizes=(20,20,20),learning_rate='adaptive',solver= 'adam',max_iter=300)"
      ],
      "execution_count": 249,
      "outputs": []
    },
    {
      "cell_type": "code",
      "metadata": {
        "colab": {
          "base_uri": "https://localhost:8080/"
        },
        "id": "UrqzATY-iQMa",
        "outputId": "19cfcd84-3315-438e-bf62-dc4b4126b40f"
      },
      "source": [
        "mlp_RS.fit(X_train_RS,y_train_RS)"
      ],
      "execution_count": 250,
      "outputs": [
        {
          "output_type": "execute_result",
          "data": {
            "text/plain": [
              "MLPClassifier(activation='relu', alpha=0.0001, batch_size='auto', beta_1=0.9,\n",
              "              beta_2=0.999, early_stopping=False, epsilon=1e-08,\n",
              "              hidden_layer_sizes=(20, 20, 20), learning_rate='adaptive',\n",
              "              learning_rate_init=0.001, max_fun=15000, max_iter=300,\n",
              "              momentum=0.9, n_iter_no_change=10, nesterovs_momentum=True,\n",
              "              power_t=0.5, random_state=None, shuffle=True, solver='adam',\n",
              "              tol=0.0001, validation_fraction=0.1, verbose=False,\n",
              "              warm_start=False)"
            ]
          },
          "metadata": {
            "tags": []
          },
          "execution_count": 250
        }
      ]
    },
    {
      "cell_type": "code",
      "metadata": {
        "colab": {
          "base_uri": "https://localhost:8080/"
        },
        "id": "n1PITqkefJQD",
        "outputId": "0de5189c-227e-4574-8ade-a5d772173639"
      },
      "source": [
        "\n",
        "## Checking the model Performances\n",
        "y_pred=mlp_RS.predict(X_test)\n",
        "accuracy=accuracy_score(y_test,y_pred)\n",
        "print(\"Accuracy score: \\t {:.2f} %\".format(accuracy*100))\n",
        "print(\"Classification Report \\n {}\".format(classification_report(y_test,y_pred)))\n",
        "print(\"ROC score: \\t {:.2f} %\".format(roc_auc_score(y_test,y_pred)*100))\n",
        "print(\"Confusion Matrix: \\n {}\".format(confusion_matrix(y_test,y_pred)))"
      ],
      "execution_count": 251,
      "outputs": [
        {
          "output_type": "stream",
          "text": [
            "Accuracy score: \t 72.29 %\n",
            "Classification Report \n",
            "               precision    recall  f1-score   support\n",
            "\n",
            "           0       0.80      0.77      0.79       151\n",
            "           1       0.60      0.62      0.61        80\n",
            "\n",
            "    accuracy                           0.72       231\n",
            "   macro avg       0.70      0.70      0.70       231\n",
            "weighted avg       0.73      0.72      0.72       231\n",
            "\n",
            "ROC score: \t 69.99 %\n",
            "Confusion Matrix: \n",
            " [[117  34]\n",
            " [ 30  50]]\n"
          ],
          "name": "stdout"
        }
      ]
    },
    {
      "cell_type": "code",
      "metadata": {
        "id": "QJk8-vGllgi-"
      },
      "source": [
        "\r\n"
      ],
      "execution_count": 234,
      "outputs": []
    },
    {
      "cell_type": "code",
      "metadata": {
        "id": "iBLO2DpLjvfd"
      },
      "source": [
        ""
      ],
      "execution_count": null,
      "outputs": []
    }
  ]
}