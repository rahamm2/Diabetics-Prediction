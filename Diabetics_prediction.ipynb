{
 "cells": [
  {
   "cell_type": "code",
   "execution_count": 1,
   "metadata": {
    "id": "qMW5jrFcMg64"
   },
   "outputs": [],
   "source": [
    "##Import all the necessary package \n",
    "import numpy as np\n",
    "import pandas as pd\n",
    "import matplotlib.pyplot as plt\n",
    "import warnings\n",
    "warnings.filterwarnings('ignore')\n"
   ]
  },
  {
   "cell_type": "code",
   "execution_count": 2,
   "metadata": {
    "id": "GXAS9LbdNCSK"
   },
   "outputs": [],
   "source": [
    "# Import lab data \n",
    "data=pd.read_csv(\"lab_results.csv\")"
   ]
  },
  {
   "cell_type": "code",
   "execution_count": 3,
   "metadata": {
    "colab": {
     "base_uri": "https://localhost:8080/",
     "height": 204
    },
    "id": "sZXI3axINoIo",
    "outputId": "be538316-08b2-4224-a1df-e5e92865414b"
   },
   "outputs": [
    {
     "data": {
      "text/html": [
       "<div>\n",
       "<style scoped>\n",
       "    .dataframe tbody tr th:only-of-type {\n",
       "        vertical-align: middle;\n",
       "    }\n",
       "\n",
       "    .dataframe tbody tr th {\n",
       "        vertical-align: top;\n",
       "    }\n",
       "\n",
       "    .dataframe thead th {\n",
       "        text-align: right;\n",
       "    }\n",
       "</style>\n",
       "<table border=\"1\" class=\"dataframe\">\n",
       "  <thead>\n",
       "    <tr style=\"text-align: right;\">\n",
       "      <th></th>\n",
       "      <th>pregnancies</th>\n",
       "      <th>Glucose</th>\n",
       "      <th>BloodPressure</th>\n",
       "      <th>SkinThickness</th>\n",
       "      <th>Insulin</th>\n",
       "      <th>BMI</th>\n",
       "      <th>DiabetesPedigreeF</th>\n",
       "      <th>Age</th>\n",
       "      <th>Outcome</th>\n",
       "    </tr>\n",
       "  </thead>\n",
       "  <tbody>\n",
       "    <tr>\n",
       "      <th>0</th>\n",
       "      <td>6</td>\n",
       "      <td>0.743719</td>\n",
       "      <td>0.590164</td>\n",
       "      <td>0.353535</td>\n",
       "      <td>0.000000</td>\n",
       "      <td>0.500745</td>\n",
       "      <td>0.234415</td>\n",
       "      <td>50</td>\n",
       "      <td>1</td>\n",
       "    </tr>\n",
       "    <tr>\n",
       "      <th>1</th>\n",
       "      <td>1</td>\n",
       "      <td>0.427136</td>\n",
       "      <td>0.540984</td>\n",
       "      <td>0.292929</td>\n",
       "      <td>0.000000</td>\n",
       "      <td>0.396423</td>\n",
       "      <td>0.116567</td>\n",
       "      <td>31</td>\n",
       "      <td>0</td>\n",
       "    </tr>\n",
       "    <tr>\n",
       "      <th>2</th>\n",
       "      <td>8</td>\n",
       "      <td>0.919598</td>\n",
       "      <td>0.524590</td>\n",
       "      <td>0.000000</td>\n",
       "      <td>0.000000</td>\n",
       "      <td>0.347243</td>\n",
       "      <td>0.253629</td>\n",
       "      <td>32</td>\n",
       "      <td>1</td>\n",
       "    </tr>\n",
       "    <tr>\n",
       "      <th>3</th>\n",
       "      <td>1</td>\n",
       "      <td>0.447236</td>\n",
       "      <td>0.540984</td>\n",
       "      <td>0.232323</td>\n",
       "      <td>0.111111</td>\n",
       "      <td>0.418778</td>\n",
       "      <td>0.038002</td>\n",
       "      <td>21</td>\n",
       "      <td>0</td>\n",
       "    </tr>\n",
       "    <tr>\n",
       "      <th>4</th>\n",
       "      <td>0</td>\n",
       "      <td>0.688442</td>\n",
       "      <td>0.327869</td>\n",
       "      <td>0.353535</td>\n",
       "      <td>0.198582</td>\n",
       "      <td>0.642325</td>\n",
       "      <td>0.943638</td>\n",
       "      <td>33</td>\n",
       "      <td>1</td>\n",
       "    </tr>\n",
       "  </tbody>\n",
       "</table>\n",
       "</div>"
      ],
      "text/plain": [
       "   pregnancies   Glucose  BloodPressure  ...  DiabetesPedigreeF  Age  Outcome\n",
       "0            6  0.743719       0.590164  ...           0.234415   50        1\n",
       "1            1  0.427136       0.540984  ...           0.116567   31        0\n",
       "2            8  0.919598       0.524590  ...           0.253629   32        1\n",
       "3            1  0.447236       0.540984  ...           0.038002   21        0\n",
       "4            0  0.688442       0.327869  ...           0.943638   33        1\n",
       "\n",
       "[5 rows x 9 columns]"
      ]
     },
     "execution_count": 3,
     "metadata": {
      "tags": []
     },
     "output_type": "execute_result"
    }
   ],
   "source": [
    "data.head()"
   ]
  },
  {
   "cell_type": "code",
   "execution_count": 4,
   "metadata": {
    "colab": {
     "base_uri": "https://localhost:8080/"
    },
    "id": "0ucBhw2djYLT",
    "outputId": "325ba69a-cdb8-4ea7-de78-381cb9e96713"
   },
   "outputs": [
    {
     "data": {
      "text/plain": [
       "(768, 9)"
      ]
     },
     "execution_count": 4,
     "metadata": {
      "tags": []
     },
     "output_type": "execute_result"
    }
   ],
   "source": [
    "## Checking the shape of Data\n",
    "data.shape"
   ]
  },
  {
   "cell_type": "code",
   "execution_count": 5,
   "metadata": {
    "colab": {
     "base_uri": "https://localhost:8080/"
    },
    "id": "RjiiS2DqN4a_",
    "outputId": "761ad873-a95e-46f6-b733-1fc3e63e48ed"
   },
   "outputs": [
    {
     "data": {
      "text/plain": [
       "pregnancies          0\n",
       "Glucose              0\n",
       "BloodPressure        0\n",
       "SkinThickness        0\n",
       "Insulin              0\n",
       "BMI                  0\n",
       "DiabetesPedigreeF    0\n",
       "Age                  0\n",
       "Outcome              0\n",
       "dtype: int64"
      ]
     },
     "execution_count": 5,
     "metadata": {
      "tags": []
     },
     "output_type": "execute_result"
    }
   ],
   "source": [
    "# Checking for missing data\n",
    "data.isnull().sum()"
   ]
  },
  {
   "cell_type": "code",
   "execution_count": 6,
   "metadata": {
    "colab": {
     "base_uri": "https://localhost:8080/",
     "height": 328
    },
    "id": "kvydJNICOHJw",
    "outputId": "a8990929-a1e7-427b-d5b8-9b84b157a3cb"
   },
   "outputs": [
    {
     "data": {
      "text/html": [
       "<div>\n",
       "<style scoped>\n",
       "    .dataframe tbody tr th:only-of-type {\n",
       "        vertical-align: middle;\n",
       "    }\n",
       "\n",
       "    .dataframe tbody tr th {\n",
       "        vertical-align: top;\n",
       "    }\n",
       "\n",
       "    .dataframe thead th {\n",
       "        text-align: right;\n",
       "    }\n",
       "</style>\n",
       "<table border=\"1\" class=\"dataframe\">\n",
       "  <thead>\n",
       "    <tr style=\"text-align: right;\">\n",
       "      <th></th>\n",
       "      <th>count</th>\n",
       "      <th>mean</th>\n",
       "      <th>std</th>\n",
       "      <th>min</th>\n",
       "      <th>25%</th>\n",
       "      <th>50%</th>\n",
       "      <th>75%</th>\n",
       "      <th>max</th>\n",
       "    </tr>\n",
       "  </thead>\n",
       "  <tbody>\n",
       "    <tr>\n",
       "      <th>pregnancies</th>\n",
       "      <td>768.0</td>\n",
       "      <td>3.845052</td>\n",
       "      <td>3.369578</td>\n",
       "      <td>0.0</td>\n",
       "      <td>1.000000</td>\n",
       "      <td>3.000000</td>\n",
       "      <td>6.000000</td>\n",
       "      <td>17.0</td>\n",
       "    </tr>\n",
       "    <tr>\n",
       "      <th>Glucose</th>\n",
       "      <td>768.0</td>\n",
       "      <td>0.607510</td>\n",
       "      <td>0.160666</td>\n",
       "      <td>0.0</td>\n",
       "      <td>0.497487</td>\n",
       "      <td>0.587940</td>\n",
       "      <td>0.704774</td>\n",
       "      <td>1.0</td>\n",
       "    </tr>\n",
       "    <tr>\n",
       "      <th>BloodPressure</th>\n",
       "      <td>768.0</td>\n",
       "      <td>0.566438</td>\n",
       "      <td>0.158654</td>\n",
       "      <td>0.0</td>\n",
       "      <td>0.508197</td>\n",
       "      <td>0.590164</td>\n",
       "      <td>0.655738</td>\n",
       "      <td>1.0</td>\n",
       "    </tr>\n",
       "    <tr>\n",
       "      <th>SkinThickness</th>\n",
       "      <td>768.0</td>\n",
       "      <td>1.813907</td>\n",
       "      <td>44.520947</td>\n",
       "      <td>0.0</td>\n",
       "      <td>0.000000</td>\n",
       "      <td>0.232323</td>\n",
       "      <td>0.323232</td>\n",
       "      <td>1234.0</td>\n",
       "    </tr>\n",
       "    <tr>\n",
       "      <th>Insulin</th>\n",
       "      <td>768.0</td>\n",
       "      <td>0.094326</td>\n",
       "      <td>0.136222</td>\n",
       "      <td>0.0</td>\n",
       "      <td>0.000000</td>\n",
       "      <td>0.036052</td>\n",
       "      <td>0.150414</td>\n",
       "      <td>1.0</td>\n",
       "    </tr>\n",
       "    <tr>\n",
       "      <th>BMI</th>\n",
       "      <td>768.0</td>\n",
       "      <td>0.476790</td>\n",
       "      <td>0.117499</td>\n",
       "      <td>0.0</td>\n",
       "      <td>0.406855</td>\n",
       "      <td>0.476900</td>\n",
       "      <td>0.545455</td>\n",
       "      <td>1.0</td>\n",
       "    </tr>\n",
       "    <tr>\n",
       "      <th>DiabetesPedigreeF</th>\n",
       "      <td>768.0</td>\n",
       "      <td>0.168179</td>\n",
       "      <td>0.141473</td>\n",
       "      <td>0.0</td>\n",
       "      <td>0.070773</td>\n",
       "      <td>0.125747</td>\n",
       "      <td>0.234095</td>\n",
       "      <td>1.0</td>\n",
       "    </tr>\n",
       "    <tr>\n",
       "      <th>Age</th>\n",
       "      <td>768.0</td>\n",
       "      <td>37.744792</td>\n",
       "      <td>93.171289</td>\n",
       "      <td>21.0</td>\n",
       "      <td>24.000000</td>\n",
       "      <td>29.000000</td>\n",
       "      <td>41.000000</td>\n",
       "      <td>2300.0</td>\n",
       "    </tr>\n",
       "    <tr>\n",
       "      <th>Outcome</th>\n",
       "      <td>768.0</td>\n",
       "      <td>0.348958</td>\n",
       "      <td>0.476951</td>\n",
       "      <td>0.0</td>\n",
       "      <td>0.000000</td>\n",
       "      <td>0.000000</td>\n",
       "      <td>1.000000</td>\n",
       "      <td>1.0</td>\n",
       "    </tr>\n",
       "  </tbody>\n",
       "</table>\n",
       "</div>"
      ],
      "text/plain": [
       "                   count       mean        std  ...        50%        75%     max\n",
       "pregnancies        768.0   3.845052   3.369578  ...   3.000000   6.000000    17.0\n",
       "Glucose            768.0   0.607510   0.160666  ...   0.587940   0.704774     1.0\n",
       "BloodPressure      768.0   0.566438   0.158654  ...   0.590164   0.655738     1.0\n",
       "SkinThickness      768.0   1.813907  44.520947  ...   0.232323   0.323232  1234.0\n",
       "Insulin            768.0   0.094326   0.136222  ...   0.036052   0.150414     1.0\n",
       "BMI                768.0   0.476790   0.117499  ...   0.476900   0.545455     1.0\n",
       "DiabetesPedigreeF  768.0   0.168179   0.141473  ...   0.125747   0.234095     1.0\n",
       "Age                768.0  37.744792  93.171289  ...  29.000000  41.000000  2300.0\n",
       "Outcome            768.0   0.348958   0.476951  ...   0.000000   1.000000     1.0\n",
       "\n",
       "[9 rows x 8 columns]"
      ]
     },
     "execution_count": 6,
     "metadata": {
      "tags": []
     },
     "output_type": "execute_result"
    }
   ],
   "source": [
    "## Checking the summary of the dataset\n",
    "data.describe().T"
   ]
  },
  {
   "cell_type": "code",
   "execution_count": 7,
   "metadata": {
    "colab": {
     "base_uri": "https://localhost:8080/"
    },
    "id": "iCsxzwAAOgw_",
    "outputId": "d2f1603d-95e6-43e2-d3d7-4fb4822f67a3"
   },
   "outputs": [
    {
     "data": {
      "text/plain": [
       "pregnancies            int64\n",
       "Glucose              float64\n",
       "BloodPressure        float64\n",
       "SkinThickness        float64\n",
       "Insulin              float64\n",
       "BMI                  float64\n",
       "DiabetesPedigreeF    float64\n",
       "Age                    int64\n",
       "Outcome                int64\n",
       "dtype: object"
      ]
     },
     "execution_count": 7,
     "metadata": {
      "tags": []
     },
     "output_type": "execute_result"
    }
   ],
   "source": [
    "## Checking the summary of the dataset\n",
    "data.dtypes"
   ]
  },
  {
   "cell_type": "markdown",
   "metadata": {
    "id": "316_pZIonqQd"
   },
   "source": [
    "### **Outlier Detection and Treatment**\n"
   ]
  },
  {
   "cell_type": "code",
   "execution_count": 8,
   "metadata": {
    "id": "CC4WxBnJC-ms"
   },
   "outputs": [],
   "source": [
    "import seaborn as sns"
   ]
  },
  {
   "cell_type": "code",
   "execution_count": 9,
   "metadata": {
    "colab": {
     "base_uri": "https://localhost:8080/",
     "height": 296
    },
    "id": "G0QTfLnivkaL",
    "outputId": "ad8d16fd-54ba-4425-db72-9b52f5aa6faa"
   },
   "outputs": [
    {
     "data": {
      "text/plain": [
       "<matplotlib.axes._subplots.AxesSubplot at 0x7f5de7507ef0>"
      ]
     },
     "execution_count": 9,
     "metadata": {
      "tags": []
     },
     "output_type": "execute_result"
    },
    {
     "data": {
      "image/png": "[encoded data removed]",
      "text/plain": [
       "<Figure size 432x288 with 1 Axes>"
      ]
     },
     "metadata": {
      "needs_background": "light",
      "tags": []
     },
     "output_type": "display_data"
    }
   ],
   "source": [
    "sns.histplot(data[\"pregnancies\"])"
   ]
  },
  {
   "cell_type": "code",
   "execution_count": 10,
   "metadata": {
    "colab": {
     "base_uri": "https://localhost:8080/",
     "height": 282
    },
    "id": "lOsXYWP8v_-d",
    "outputId": "6990a297-c121-4c54-c835-930b1dc081b3"
   },
   "outputs": [
    {
     "data": {
      "text/plain": [
       "<matplotlib.axes._subplots.AxesSubplot at 0x7f5de6506f28>"
      ]
     },
     "execution_count": 10,
     "metadata": {
      "tags": []
     },
     "output_type": "execute_result"
    },
    {
     "data": {
      "image/png": "[encoded data removed]",
      "text/plain": [
       "<Figure size 432x288 with 1 Axes>"
      ]
     },
     "metadata": {
      "needs_background": "light",
      "tags": []
     },
     "output_type": "display_data"
    }
   ],
   "source": [
    "data.boxplot(column=\"pregnancies\")"
   ]
  },
  {
   "cell_type": "code",
   "execution_count": 11,
   "metadata": {
    "colab": {
     "base_uri": "https://localhost:8080/"
    },
    "id": "Yv3ZSNzpyrEk",
    "outputId": "1530b5b0-fc29-408c-9ba9-cc6c53241b7e"
   },
   "outputs": [
    {
     "name": "stdout",
     "output_type": "stream",
     "text": [
      "5.0\n"
     ]
    }
   ],
   "source": [
    "## As Data is skewed  so I will use following treatment\n",
    "IQR=data.pregnancies.quantile(0.75)-data.pregnancies.quantile(0.25)\n",
    "print(IQR)"
   ]
  },
  {
   "cell_type": "code",
   "execution_count": 12,
   "metadata": {
    "colab": {
     "base_uri": "https://localhost:8080/"
    },
    "id": "rbHJcbO2z6s5",
    "outputId": "4dea88af-9b96-4bf7-895d-484b74068e4b"
   },
   "outputs": [
    {
     "name": "stdout",
     "output_type": "stream",
     "text": [
      "-14.0 21.0\n"
     ]
    }
   ],
   "source": [
    "lower_boundary=data.pregnancies.quantile(.25)-(IQR*3.0)\n",
    "upper_boundary=data.pregnancies.quantile(.75)+(IQR*3.0)\n",
    "print(lower_boundary,upper_boundary)"
   ]
  },
  {
   "cell_type": "code",
   "execution_count": 13,
   "metadata": {
    "colab": {
     "base_uri": "https://localhost:8080/",
     "height": 296
    },
    "id": "l4iNk154wFu1",
    "outputId": "d679d2e2-e299-4e54-96b7-4414356b1403"
   },
   "outputs": [
    {
     "data": {
      "text/plain": [
       "<matplotlib.axes._subplots.AxesSubplot at 0x7f5de69d33c8>"
      ]
     },
     "execution_count": 13,
     "metadata": {
      "tags": []
     },
     "output_type": "execute_result"
    },
    {
     "data": {
      "image/png": "[encoded data removed]",
      "text/plain": [
       "<Figure size 432x288 with 1 Axes>"
      ]
     },
     "metadata": {
      "needs_background": "light",
      "tags": []
     },
     "output_type": "display_data"
    }
   ],
   "source": [
    "sns.histplot(data[\"Glucose\"])"
   ]
  },
  {
   "cell_type": "code",
   "execution_count": 14,
   "metadata": {
    "colab": {
     "base_uri": "https://localhost:8080/"
    },
    "id": "fyiWnH0B2ndE",
    "outputId": "1b5d465f-5f9c-4750-db44-6ce84cb65621"
   },
   "outputs": [
    {
     "name": "stdout",
     "output_type": "stream",
     "text": [
      "0.12551093804642477 1.0895094765317\n"
     ]
    }
   ],
   "source": [
    "##### Assuming Glucose follows A Gaussian Distribution we will calculate the boundaries which differentiates the outliers\n",
    "\n",
    "uppper_boundary=data['Glucose'].mean() + 3* data['Glucose'].std()\n",
    "lower_boundary=data['Glucose'].mean() - 3* data['Glucose'].std()\n",
    "print(lower_boundary,uppper_boundary)"
   ]
  },
  {
   "cell_type": "code",
   "execution_count": 15,
   "metadata": {
    "colab": {
     "base_uri": "https://localhost:8080/",
     "height": 296
    },
    "id": "xvgt3QGOwMFD",
    "outputId": "18ac69b9-a597-43ff-b15c-5af22a7e19c4"
   },
   "outputs": [
    {
     "data": {
      "text/plain": [
       "<matplotlib.axes._subplots.AxesSubplot at 0x7f5de6397518>"
      ]
     },
     "execution_count": 15,
     "metadata": {
      "tags": []
     },
     "output_type": "execute_result"
    },
    {
     "data": {
      "image/png": "[encoded data removed]",
      "text/plain": [
       "<Figure size 432x288 with 1 Axes>"
      ]
     },
     "metadata": {
      "needs_background": "light",
      "tags": []
     },
     "output_type": "display_data"
    }
   ],
   "source": [
    "sns.histplot(data[\"BloodPressure\"])"
   ]
  },
  {
   "cell_type": "code",
   "execution_count": 16,
   "metadata": {
    "colab": {
     "base_uri": "https://localhost:8080/"
    },
    "id": "EPzjwwWS3zAX",
    "outputId": "7bb5061e-d209-4055-eb5f-8fb2cc4c504f"
   },
   "outputs": [
    {
     "name": "stdout",
     "output_type": "stream",
     "text": [
      "0.09047579705124442 1.042400739828964\n"
     ]
    }
   ],
   "source": [
    "##### Assuming Blood Pressure follows A Gaussian Distribution we will calculate the boundaries which differentiates the outliers\n",
    "\n",
    "uppper_boundary=data['BloodPressure'].mean() + 3* data['BloodPressure'].std()\n",
    "lower_boundary=data['BloodPressure'].mean() - 3* data['BloodPressure'].std()\n",
    "print(lower_boundary,uppper_boundary)"
   ]
  },
  {
   "cell_type": "code",
   "execution_count": 17,
   "metadata": {
    "colab": {
     "base_uri": "https://localhost:8080/",
     "height": 299
    },
    "id": "sh8yej1JwxSM",
    "outputId": "793bb0a1-9f07-4a5b-bd24-ed90fc758db1"
   },
   "outputs": [
    {
     "data": {
      "text/plain": [
       "<matplotlib.axes._subplots.AxesSubplot at 0x7f5de6327a20>"
      ]
     },
     "execution_count": 17,
     "metadata": {
      "tags": []
     },
     "output_type": "execute_result"
    },
    {
     "data": {
      "image/png": "[encoded data removed]",
      "text/plain": [
       "<Figure size 432x288 with 1 Axes>"
      ]
     },
     "metadata": {
      "needs_background": "light",
      "tags": []
     },
     "output_type": "display_data"
    }
   ],
   "source": [
    "sns.histplot(data[\"SkinThickness\"],bins=60)"
   ]
  },
  {
   "cell_type": "code",
   "execution_count": 18,
   "metadata": {
    "colab": {
     "base_uri": "https://localhost:8080/"
    },
    "id": "8FlmCkHbkIQm",
    "outputId": "17e63a07-37d4-4d19-9b01-fd3312fd7b13"
   },
   "outputs": [
    {
     "name": "stdout",
     "output_type": "stream",
     "text": [
      "0.323232323\n"
     ]
    }
   ],
   "source": [
    "IQR_ST=data.SkinThickness.quantile(0.75)-data.SkinThickness.quantile(0.25)\n",
    "print(IQR_ST)"
   ]
  },
  {
   "cell_type": "code",
   "execution_count": 19,
   "metadata": {
    "colab": {
     "base_uri": "https://localhost:8080/"
    },
    "id": "SjHhZh42xNyL",
    "outputId": "47fbbda1-cc1c-46b8-cbae-9aedbfaa287b"
   },
   "outputs": [
    {
     "name": "stdout",
     "output_type": "stream",
     "text": [
      "-0.48484848449999995 0.8080808074999999\n"
     ]
    }
   ],
   "source": [
    "lower_boundary=data.SkinThickness.quantile(.25)-(IQR_ST*1.5)\n",
    "upper_boundary=data.SkinThickness.quantile(.75)+(IQR_ST*1.5)\n",
    "print(lower_boundary,upper_boundary)"
   ]
  },
  {
   "cell_type": "code",
   "execution_count": 20,
   "metadata": {
    "colab": {
     "base_uri": "https://localhost:8080/",
     "height": 282
    },
    "id": "dTfNn2dijnZq",
    "outputId": "b4d35174-4ece-4352-efa7-229164608c32"
   },
   "outputs": [
    {
     "data": {
      "text/plain": [
       "<matplotlib.axes._subplots.AxesSubplot at 0x7f5de61ee2e8>"
      ]
     },
     "execution_count": 20,
     "metadata": {
      "tags": []
     },
     "output_type": "execute_result"
    },
    {
     "data": {
      "image/png": "[encoded data removed]",
      "text/plain": [
       "<Figure size 432x288 with 1 Axes>"
      ]
     },
     "metadata": {
      "needs_background": "light",
      "tags": []
     },
     "output_type": "display_data"
    }
   ],
   "source": [
    "data.boxplot(column=\"SkinThickness\")"
   ]
  },
  {
   "cell_type": "code",
   "execution_count": 21,
   "metadata": {
    "colab": {
     "base_uri": "https://localhost:8080/"
    },
    "id": "ppnF1JAb4M5h",
    "outputId": "90eb0ce4-bd5e-4eb5-f155-48add40391ea"
   },
   "outputs": [
    {
     "data": {
      "text/plain": [
       "pregnancies          2\n",
       "Glucose              2\n",
       "BloodPressure        2\n",
       "SkinThickness        2\n",
       "Insulin              2\n",
       "BMI                  2\n",
       "DiabetesPedigreeF    2\n",
       "Age                  2\n",
       "Outcome              2\n",
       "dtype: int64"
      ]
     },
     "execution_count": 21,
     "metadata": {
      "tags": []
     },
     "output_type": "execute_result"
    }
   ],
   "source": [
    "data[data[\"SkinThickness\"]>=.80].count()"
   ]
  },
  {
   "cell_type": "code",
   "execution_count": 22,
   "metadata": {
    "colab": {
     "base_uri": "https://localhost:8080/",
     "height": 299
    },
    "id": "TpmLVkPwxRrS",
    "outputId": "4e0e5d71-6820-4a01-9a0b-dfe0ae2e7b0d"
   },
   "outputs": [
    {
     "data": {
      "text/plain": [
       "<matplotlib.axes._subplots.AxesSubplot at 0x7f5de7c451d0>"
      ]
     },
     "execution_count": 22,
     "metadata": {
      "tags": []
     },
     "output_type": "execute_result"
    },
    {
     "data": {
      "image/png": "[encoded data removed]",
      "text/plain": [
       "<Figure size 432x288 with 1 Axes>"
      ]
     },
     "metadata": {
      "needs_background": "light",
      "tags": []
     },
     "output_type": "display_data"
    }
   ],
   "source": [
    "sns.histplot(data[\"Insulin\"])"
   ]
  },
  {
   "cell_type": "code",
   "execution_count": 23,
   "metadata": {
    "colab": {
     "base_uri": "https://localhost:8080/"
    },
    "id": "AalJfgwJ1cw3",
    "outputId": "2635be2d-cd12-4fea-cea7-0d2a6c56cbbd"
   },
   "outputs": [
    {
     "name": "stdout",
     "output_type": "stream",
     "text": [
      "0.15041371125\n"
     ]
    }
   ],
   "source": [
    "## As Data is skewed  so I will use following treatment\n",
    "IQR_Ins=data.Insulin.quantile(0.75)-data.Insulin.quantile(0.25)\n",
    "print(IQR_Ins)"
   ]
  },
  {
   "cell_type": "code",
   "execution_count": 24,
   "metadata": {
    "colab": {
     "base_uri": "https://localhost:8080/"
    },
    "id": "nK5xlJvU1wo1",
    "outputId": "bf0e3a3a-8f12-4c3f-f8aa-f604e6bcbd50"
   },
   "outputs": [
    {
     "name": "stdout",
     "output_type": "stream",
     "text": [
      "-0.45124113374999997 0.601654845\n"
     ]
    }
   ],
   "source": [
    "lower_boundary=data.Insulin.quantile(.25)-(IQR_Ins*3.0)\n",
    "upper_boundary=data.Insulin.quantile(.75)+(IQR_Ins*3.0)\n",
    "print(lower_boundary,upper_boundary)"
   ]
  },
  {
   "cell_type": "code",
   "execution_count": 25,
   "metadata": {
    "colab": {
     "base_uri": "https://localhost:8080/",
     "height": 296
    },
    "id": "AaEhEPUdxccf",
    "outputId": "77066bd7-7b7f-4794-8086-2582d18a736e"
   },
   "outputs": [
    {
     "data": {
      "text/plain": [
       "<matplotlib.axes._subplots.AxesSubplot at 0x7f5de60ee438>"
      ]
     },
     "execution_count": 25,
     "metadata": {
      "tags": []
     },
     "output_type": "execute_result"
    },
    {
     "data": {
      "image/png": "[encoded data removed]",
      "text/plain": [
       "<Figure size 432x288 with 1 Axes>"
      ]
     },
     "metadata": {
      "needs_background": "light",
      "tags": []
     },
     "output_type": "display_data"
    }
   ],
   "source": [
    "sns.histplot(data[\"BMI\"])"
   ]
  },
  {
   "cell_type": "code",
   "execution_count": 26,
   "metadata": {
    "colab": {
     "base_uri": "https://localhost:8080/"
    },
    "id": "0t69ZNUs5Ncf",
    "outputId": "5a38f467-10e7-434f-c6f5-b3f4788826a9"
   },
   "outputs": [
    {
     "name": "stdout",
     "output_type": "stream",
     "text": [
      "0.12429354941785797 0.8292855302878707\n"
     ]
    }
   ],
   "source": [
    "##### Assuming  follows BMI A Gaussian Distribution we will calculate the boundaries which differentiates the outliers\n",
    "uppper_boundary=data['BMI'].mean() + 3* data['BMI'].std()\n",
    "lower_boundary=data['BMI'].mean() - 3* data['BMI'].std()\n",
    "print(lower_boundary,uppper_boundary)"
   ]
  },
  {
   "cell_type": "code",
   "execution_count": 27,
   "metadata": {
    "colab": {
     "base_uri": "https://localhost:8080/",
     "height": 296
    },
    "id": "TiRjlF-5xmwt",
    "outputId": "25f98286-80a9-4e7d-ba24-99676739dd44"
   },
   "outputs": [
    {
     "data": {
      "text/plain": [
       "<matplotlib.axes._subplots.AxesSubplot at 0x7f5de6030240>"
      ]
     },
     "execution_count": 27,
     "metadata": {
      "tags": []
     },
     "output_type": "execute_result"
    },
    {
     "data": {
      "image/png": "[encoded data removed]",
      "text/plain": [
       "<Figure size 432x288 with 1 Axes>"
      ]
     },
     "metadata": {
      "needs_background": "light",
      "tags": []
     },
     "output_type": "display_data"
    }
   ],
   "source": [
    "sns.histplot(data[\"DiabetesPedigreeF\"])"
   ]
  },
  {
   "cell_type": "code",
   "execution_count": 28,
   "metadata": {
    "colab": {
     "base_uri": "https://localhost:8080/"
    },
    "id": "X83ix4Zj193w",
    "outputId": "77720233-574d-432a-ed3a-a64bee7420a6"
   },
   "outputs": [
    {
     "name": "stdout",
     "output_type": "stream",
     "text": [
      "0.16332194674999997\n"
     ]
    }
   ],
   "source": [
    "## As Data is skewed  so I will use following treatment\n",
    "IQR=data.DiabetesPedigreeF.quantile(0.75)-data.DiabetesPedigreeF.quantile(0.25)\n",
    "print(IQR)"
   ]
  },
  {
   "cell_type": "code",
   "execution_count": 29,
   "metadata": {
    "colab": {
     "base_uri": "https://localhost:8080/"
    },
    "id": "Ca6qZJL52JUG",
    "outputId": "3f16f28f-b1b6-404e-a76a-02020562b320"
   },
   "outputs": [
    {
     "name": "stdout",
     "output_type": "stream",
     "text": [
      "-0.41919299649999986 0.7240606307499999\n"
     ]
    }
   ],
   "source": [
    "lower_boundary=data.DiabetesPedigreeF.quantile(.25)-(IQR*3.0)\n",
    "upper_boundary=data.DiabetesPedigreeF.quantile(.75)+(IQR*3.0)\n",
    "print(lower_boundary,upper_boundary)"
   ]
  },
  {
   "cell_type": "code",
   "execution_count": 30,
   "metadata": {
    "colab": {
     "base_uri": "https://localhost:8080/",
     "height": 299
    },
    "id": "QPzYnal3x9yn",
    "outputId": "1cc4c796-2b73-4ff6-9225-1debd2073855"
   },
   "outputs": [
    {
     "data": {
      "text/plain": [
       "<matplotlib.axes._subplots.AxesSubplot at 0x7f5de6030d68>"
      ]
     },
     "execution_count": 30,
     "metadata": {
      "tags": []
     },
     "output_type": "execute_result"
    },
    {
     "data": {
      "image/png": "[encoded data removed]",
      "text/plain": [
       "<Figure size 432x288 with 1 Axes>"
      ]
     },
     "metadata": {
      "needs_background": "light",
      "tags": []
     },
     "output_type": "display_data"
    }
   ],
   "source": [
    "sns.histplot(data[\"Age\"],bins=20)"
   ]
  },
  {
   "cell_type": "code",
   "execution_count": 31,
   "metadata": {
    "colab": {
     "base_uri": "https://localhost:8080/",
     "height": 282
    },
    "id": "6z32gMJWx92S",
    "outputId": "2936f2be-04ff-41ca-a0fb-f67c1b7d65e4"
   },
   "outputs": [
    {
     "data": {
      "text/plain": [
       "<matplotlib.axes._subplots.AxesSubplot at 0x7f5de5f705c0>"
      ]
     },
     "execution_count": 31,
     "metadata": {
      "tags": []
     },
     "output_type": "execute_result"
    },
    {
     "data": {
      "image/png": "[encoded data removed]",
      "text/plain": [
       "<Figure size 432x288 with 1 Axes>"
      ]
     },
     "metadata": {
      "needs_background": "light",
      "tags": []
     },
     "output_type": "display_data"
    }
   ],
   "source": [
    "data.boxplot(column=\"Age\")"
   ]
  },
  {
   "cell_type": "code",
   "execution_count": 32,
   "metadata": {
    "colab": {
     "base_uri": "https://localhost:8080/"
    },
    "id": "2ZZfaOwYnIeA",
    "outputId": "f5352559-fd47-413d-d122-315e8b8795ae"
   },
   "outputs": [
    {
     "name": "stdout",
     "output_type": "stream",
     "text": [
      "17.0\n"
     ]
    }
   ],
   "source": [
    "# IQR Treatment for Age\n",
    "IQR_Age=data.Age.quantile(.75)-data.Age.quantile(.25)\n",
    "print(IQR_Age)"
   ]
  },
  {
   "cell_type": "code",
   "execution_count": 33,
   "metadata": {
    "colab": {
     "base_uri": "https://localhost:8080/"
    },
    "id": "ecFUBWsCn2OB",
    "outputId": "7222dea6-452a-4301-a690-8c6527878d6e"
   },
   "outputs": [
    {
     "name": "stdout",
     "output_type": "stream",
     "text": [
      "-27.0 92.0\n"
     ]
    }
   ],
   "source": [
    "lower_boundary=data.Age.quantile(.25)-(IQR_Age*3.0)\n",
    "upper_boundary=data.Age.quantile(.75)+(IQR_Age*3.0)\n",
    "print(lower_boundary,upper_boundary)"
   ]
  },
  {
   "cell_type": "code",
   "execution_count": 34,
   "metadata": {
    "colab": {
     "base_uri": "https://localhost:8080/"
    },
    "id": "zSrEA2O-5cnJ",
    "outputId": "f3d2de4e-9563-403d-b7a0-ce235ee114d6"
   },
   "outputs": [
    {
     "data": {
      "text/plain": [
       "pregnancies          2\n",
       "Glucose              2\n",
       "BloodPressure        2\n",
       "SkinThickness        2\n",
       "Insulin              2\n",
       "BMI                  2\n",
       "DiabetesPedigreeF    2\n",
       "Age                  2\n",
       "Outcome              2\n",
       "dtype: int64"
      ]
     },
     "execution_count": 34,
     "metadata": {
      "tags": []
     },
     "output_type": "execute_result"
    }
   ],
   "source": [
    "data[data[\"Age\"]>=92].count()"
   ]
  },
  {
   "cell_type": "code",
   "execution_count": 35,
   "metadata": {
    "id": "9z7y0Saux98n"
   },
   "outputs": [],
   "source": [
    "df=data.copy()"
   ]
  },
  {
   "cell_type": "code",
   "execution_count": 36,
   "metadata": {
    "colab": {
     "base_uri": "https://localhost:8080/"
    },
    "id": "omKh0gaP8DFd",
    "outputId": "a9264e8d-d3c8-48bf-8069-58f57b8208ce"
   },
   "outputs": [
    {
     "data": {
      "text/plain": [
       "Index(['pregnancies', 'Glucose', 'BloodPressure', 'SkinThickness', 'Insulin',\n",
       "       'BMI', 'DiabetesPedigreeF', 'Age', 'Outcome'],\n",
       "      dtype='object')"
      ]
     },
     "execution_count": 36,
     "metadata": {
      "tags": []
     },
     "output_type": "execute_result"
    }
   ],
   "source": [
    "df.columns"
   ]
  },
  {
   "cell_type": "markdown",
   "metadata": {
    "id": "RTYIVkNSjV9R"
   },
   "source": [
    "### Removing Outlier"
   ]
  },
  {
   "cell_type": "code",
   "execution_count": 37,
   "metadata": {
    "id": "0iuVegG2x9_Y"
   },
   "outputs": [],
   "source": [
    "df.loc[df['pregnancies']>=21,\"pregnancies\"]=21"
   ]
  },
  {
   "cell_type": "code",
   "execution_count": 38,
   "metadata": {
    "id": "E0qyqEofx-CU"
   },
   "outputs": [],
   "source": [
    "df.loc[df['Glucose']>=1,\"Glucose\"]=1"
   ]
  },
  {
   "cell_type": "code",
   "execution_count": 39,
   "metadata": {
    "id": "SY2Fj93Sx-FP"
   },
   "outputs": [],
   "source": [
    "df.loc[df['SkinThickness']>=.80,'SkinThickness']=.80"
   ]
  },
  {
   "cell_type": "code",
   "execution_count": 40,
   "metadata": {
    "id": "CxVsdyMP9pLh"
   },
   "outputs": [],
   "source": [
    "df.loc[df['Insulin']>=.60,'Insulin']=.60"
   ]
  },
  {
   "cell_type": "code",
   "execution_count": 41,
   "metadata": {
    "id": "348nckkr-Uwa"
   },
   "outputs": [],
   "source": [
    "df.loc[df['BMI']>=.83,'BMI']=.83"
   ]
  },
  {
   "cell_type": "code",
   "execution_count": 42,
   "metadata": {
    "id": "_ufQUqtD-U5E"
   },
   "outputs": [],
   "source": [
    "df.loc[df['BMI']<=.12,'BMI']=.12"
   ]
  },
  {
   "cell_type": "code",
   "execution_count": 43,
   "metadata": {
    "id": "9DAHPDp--U8d"
   },
   "outputs": [],
   "source": [
    "df.loc[df['DiabetesPedigreeF']>=.72,'DiabetesPedigreeF']=.72"
   ]
  },
  {
   "cell_type": "code",
   "execution_count": 44,
   "metadata": {
    "id": "ufNkC5XP-VAC"
   },
   "outputs": [],
   "source": [
    "df.loc[df['Age']>=92,'Age']=92"
   ]
  },
  {
   "cell_type": "markdown",
   "metadata": {
    "id": "3ec2OhmQpL8M"
   },
   "source": [
    "###**After Treating the Outlier , The resulting table **"
   ]
  },
  {
   "cell_type": "code",
   "execution_count": 45,
   "metadata": {
    "colab": {
     "base_uri": "https://localhost:8080/",
     "height": 328
    },
    "id": "fJRuFxcc_0o7",
    "outputId": "577e74fd-ca32-47ac-e3fc-ea013cc78a99"
   },
   "outputs": [
    {
     "data": {
      "text/html": [
       "<div>\n",
       "<style scoped>\n",
       "    .dataframe tbody tr th:only-of-type {\n",
       "        vertical-align: middle;\n",
       "    }\n",
       "\n",
       "    .dataframe tbody tr th {\n",
       "        vertical-align: top;\n",
       "    }\n",
       "\n",
       "    .dataframe thead th {\n",
       "        text-align: right;\n",
       "    }\n",
       "</style>\n",
       "<table border=\"1\" class=\"dataframe\">\n",
       "  <thead>\n",
       "    <tr style=\"text-align: right;\">\n",
       "      <th></th>\n",
       "      <th>count</th>\n",
       "      <th>mean</th>\n",
       "      <th>std</th>\n",
       "      <th>min</th>\n",
       "      <th>25%</th>\n",
       "      <th>50%</th>\n",
       "      <th>75%</th>\n",
       "      <th>max</th>\n",
       "    </tr>\n",
       "  </thead>\n",
       "  <tbody>\n",
       "    <tr>\n",
       "      <th>pregnancies</th>\n",
       "      <td>768.0</td>\n",
       "      <td>3.845052</td>\n",
       "      <td>3.369578</td>\n",
       "      <td>0.00</td>\n",
       "      <td>1.000000</td>\n",
       "      <td>3.000000</td>\n",
       "      <td>6.000000</td>\n",
       "      <td>17.00</td>\n",
       "    </tr>\n",
       "    <tr>\n",
       "      <th>Glucose</th>\n",
       "      <td>768.0</td>\n",
       "      <td>0.607510</td>\n",
       "      <td>0.160666</td>\n",
       "      <td>0.00</td>\n",
       "      <td>0.497487</td>\n",
       "      <td>0.587940</td>\n",
       "      <td>0.704774</td>\n",
       "      <td>1.00</td>\n",
       "    </tr>\n",
       "    <tr>\n",
       "      <th>BloodPressure</th>\n",
       "      <td>768.0</td>\n",
       "      <td>0.566438</td>\n",
       "      <td>0.158654</td>\n",
       "      <td>0.00</td>\n",
       "      <td>0.508197</td>\n",
       "      <td>0.590164</td>\n",
       "      <td>0.655738</td>\n",
       "      <td>1.00</td>\n",
       "    </tr>\n",
       "    <tr>\n",
       "      <th>SkinThickness</th>\n",
       "      <td>768.0</td>\n",
       "      <td>0.207918</td>\n",
       "      <td>0.161430</td>\n",
       "      <td>0.00</td>\n",
       "      <td>0.000000</td>\n",
       "      <td>0.232323</td>\n",
       "      <td>0.323232</td>\n",
       "      <td>0.80</td>\n",
       "    </tr>\n",
       "    <tr>\n",
       "      <th>Insulin</th>\n",
       "      <td>768.0</td>\n",
       "      <td>0.092758</td>\n",
       "      <td>0.128726</td>\n",
       "      <td>0.00</td>\n",
       "      <td>0.000000</td>\n",
       "      <td>0.036052</td>\n",
       "      <td>0.150414</td>\n",
       "      <td>0.60</td>\n",
       "    </tr>\n",
       "    <tr>\n",
       "      <th>BMI</th>\n",
       "      <td>768.0</td>\n",
       "      <td>0.478184</td>\n",
       "      <td>0.109989</td>\n",
       "      <td>0.12</td>\n",
       "      <td>0.406855</td>\n",
       "      <td>0.476900</td>\n",
       "      <td>0.545455</td>\n",
       "      <td>0.83</td>\n",
       "    </tr>\n",
       "    <tr>\n",
       "      <th>DiabetesPedigreeF</th>\n",
       "      <td>768.0</td>\n",
       "      <td>0.166922</td>\n",
       "      <td>0.135435</td>\n",
       "      <td>0.00</td>\n",
       "      <td>0.070773</td>\n",
       "      <td>0.125747</td>\n",
       "      <td>0.234095</td>\n",
       "      <td>0.72</td>\n",
       "    </tr>\n",
       "    <tr>\n",
       "      <th>Age</th>\n",
       "      <td>768.0</td>\n",
       "      <td>33.389323</td>\n",
       "      <td>12.120247</td>\n",
       "      <td>21.00</td>\n",
       "      <td>24.000000</td>\n",
       "      <td>29.000000</td>\n",
       "      <td>41.000000</td>\n",
       "      <td>92.00</td>\n",
       "    </tr>\n",
       "    <tr>\n",
       "      <th>Outcome</th>\n",
       "      <td>768.0</td>\n",
       "      <td>0.348958</td>\n",
       "      <td>0.476951</td>\n",
       "      <td>0.00</td>\n",
       "      <td>0.000000</td>\n",
       "      <td>0.000000</td>\n",
       "      <td>1.000000</td>\n",
       "      <td>1.00</td>\n",
       "    </tr>\n",
       "  </tbody>\n",
       "</table>\n",
       "</div>"
      ],
      "text/plain": [
       "                   count       mean        std  ...        50%        75%    max\n",
       "pregnancies        768.0   3.845052   3.369578  ...   3.000000   6.000000  17.00\n",
       "Glucose            768.0   0.607510   0.160666  ...   0.587940   0.704774   1.00\n",
       "BloodPressure      768.0   0.566438   0.158654  ...   0.590164   0.655738   1.00\n",
       "SkinThickness      768.0   0.207918   0.161430  ...   0.232323   0.323232   0.80\n",
       "Insulin            768.0   0.092758   0.128726  ...   0.036052   0.150414   0.60\n",
       "BMI                768.0   0.478184   0.109989  ...   0.476900   0.545455   0.83\n",
       "DiabetesPedigreeF  768.0   0.166922   0.135435  ...   0.125747   0.234095   0.72\n",
       "Age                768.0  33.389323  12.120247  ...  29.000000  41.000000  92.00\n",
       "Outcome            768.0   0.348958   0.476951  ...   0.000000   1.000000   1.00\n",
       "\n",
       "[9 rows x 8 columns]"
      ]
     },
     "execution_count": 45,
     "metadata": {
      "tags": []
     },
     "output_type": "execute_result"
    }
   ],
   "source": [
    "df.describe().T"
   ]
  },
  {
   "cell_type": "code",
   "execution_count": 46,
   "metadata": {
    "colab": {
     "base_uri": "https://localhost:8080/"
    },
    "id": "EitkEByJ_2o-",
    "outputId": "693187fe-1e42-411c-b91d-d7af9fc21dbf"
   },
   "outputs": [
    {
     "data": {
      "text/plain": [
       "0    500\n",
       "1    268\n",
       "Name: Outcome, dtype: int64"
      ]
     },
     "execution_count": 46,
     "metadata": {
      "tags": []
     },
     "output_type": "execute_result"
    }
   ],
   "source": [
    "df['Outcome'].value_counts()"
   ]
  },
  {
   "cell_type": "code",
   "execution_count": 47,
   "metadata": {
    "colab": {
     "base_uri": "https://localhost:8080/"
    },
    "id": "TZA6L8_VAkOb",
    "outputId": "62811f74-4a45-4d7f-a424-3bac96ad9071"
   },
   "outputs": [
    {
     "data": {
      "text/plain": [
       "0    65.104167\n",
       "1    34.895833\n",
       "Name: Outcome, dtype: float64"
      ]
     },
     "execution_count": 47,
     "metadata": {
      "tags": []
     },
     "output_type": "execute_result"
    }
   ],
   "source": [
    "#Checking percentage of different values n the columns\n",
    "(data['Outcome'].value_counts()/data[\"Outcome\"].count())*100"
   ]
  },
  {
   "cell_type": "markdown",
   "metadata": {
    "id": "AyfzUCtVBM_Q"
   },
   "source": [
    "###Model without balanceing Data"
   ]
  },
  {
   "cell_type": "code",
   "execution_count": 48,
   "metadata": {
    "id": "0xc8X-tYBQA1"
   },
   "outputs": [],
   "source": [
    "## Drop the label data\n",
    "X=df.drop('Outcome',axis=1)\n",
    "y=df['Outcome']"
   ]
  },
  {
   "cell_type": "code",
   "execution_count": 49,
   "metadata": {
    "colab": {
     "base_uri": "https://localhost:8080/"
    },
    "id": "PLXKe-S3QJPy",
    "outputId": "cb458c60-834e-4810-c2d7-a2ea7b83c8a9"
   },
   "outputs": [
    {
     "data": {
      "text/plain": [
       "((768, 8), (768,))"
      ]
     },
     "execution_count": 49,
     "metadata": {
      "tags": []
     },
     "output_type": "execute_result"
    }
   ],
   "source": [
    "X.shape , y.shape\n"
   ]
  },
  {
   "cell_type": "code",
   "execution_count": 50,
   "metadata": {
    "colab": {
     "base_uri": "https://localhost:8080/"
    },
    "id": "pSYQxYttW4pa",
    "outputId": "495229b2-32e9-4efd-cd59-b93e5ec10d40"
   },
   "outputs": [
    {
     "data": {
      "text/plain": [
       "Index(['pregnancies', 'Glucose', 'BloodPressure', 'SkinThickness', 'Insulin',\n",
       "       'BMI', 'DiabetesPedigreeF', 'Age'],\n",
       "      dtype='object')"
      ]
     },
     "execution_count": 50,
     "metadata": {
      "tags": []
     },
     "output_type": "execute_result"
    }
   ],
   "source": [
    "X.columns"
   ]
  },
  {
   "cell_type": "code",
   "execution_count": 51,
   "metadata": {
    "id": "hBJZS81lQRgx"
   },
   "outputs": [],
   "source": [
    "## Splitting the dataset\n",
    "from sklearn.model_selection import train_test_split\n",
    "X_train,X_test,y_train,y_test=train_test_split(X,y,test_size=.30,random_state=42)"
   ]
  },
  {
   "cell_type": "code",
   "execution_count": 52,
   "metadata": {
    "colab": {
     "base_uri": "https://localhost:8080/"
    },
    "id": "6mIcTsIoRVOL",
    "outputId": "5e4aab9f-700c-4af3-8981-f1d46d776008"
   },
   "outputs": [
    {
     "data": {
      "text/plain": [
       "StandardScaler(copy=True, with_mean=True, with_std=True)"
      ]
     },
     "execution_count": 52,
     "metadata": {
      "tags": []
     },
     "output_type": "execute_result"
    }
   ],
   "source": [
    "#fitting the training data\n",
    "from sklearn.preprocessing import StandardScaler\n",
    "scaler=StandardScaler()\n",
    "scaler.fit(X_train)\n"
   ]
  },
  {
   "cell_type": "code",
   "execution_count": 53,
   "metadata": {
    "id": "TSvNhlyuSHLj"
   },
   "outputs": [],
   "source": [
    "# fitting X_train and X_test data\n",
    "X_train=scaler.transform(X_train)\n",
    "X_test=scaler.transform(X_test)"
   ]
  },
  {
   "cell_type": "code",
   "execution_count": 54,
   "metadata": {
    "colab": {
     "base_uri": "https://localhost:8080/"
    },
    "id": "zc-_OJt-Slqo",
    "outputId": "2fe56ce2-b385-41cb-d0d6-8bbb4fcb64aa"
   },
   "outputs": [
    {
     "data": {
      "text/plain": [
       "MLPClassifier(activation='relu', alpha=0.0001, batch_size='auto', beta_1=0.9,\n",
       "              beta_2=0.999, early_stopping=False, epsilon=1e-08,\n",
       "              hidden_layer_sizes=(10, 10, 10), learning_rate='constant',\n",
       "              learning_rate_init=0.001, max_fun=15000, max_iter=300,\n",
       "              momentum=0.9, n_iter_no_change=10, nesterovs_momentum=True,\n",
       "              power_t=0.5, random_state=None, shuffle=True, solver='adam',\n",
       "              tol=0.0001, validation_fraction=0.1, verbose=False,\n",
       "              warm_start=False)"
      ]
     },
     "execution_count": 54,
     "metadata": {
      "tags": []
     },
     "output_type": "execute_result"
    }
   ],
   "source": [
    "## Implementing the model \n",
    "from sklearn.neural_network import MLPClassifier\n",
    "mlp=MLPClassifier(hidden_layer_sizes=(10,10,10),max_iter=300)\n",
    "mlp.fit(X_train,y_train)"
   ]
  },
  {
   "cell_type": "code",
   "execution_count": 55,
   "metadata": {
    "colab": {
     "base_uri": "https://localhost:8080/"
    },
    "id": "QLTSLxk7Vl-W",
    "outputId": "de781965-9249-47ce-b567-f224a8a08b03"
   },
   "outputs": [
    {
     "name": "stdout",
     "output_type": "stream",
     "text": [
      "Accuracy score: \t 0.7229437229437229\n",
      "Classification score \n",
      "               precision    recall  f1-score   support\n",
      "\n",
      "           0       0.79      0.79      0.79       151\n",
      "           1       0.60      0.60      0.60        80\n",
      "\n",
      "    accuracy                           0.72       231\n",
      "   macro avg       0.69      0.69      0.69       231\n",
      "weighted avg       0.72      0.72      0.72       231\n",
      "\n",
      "ROC score: \t 0.6940397350993378\n",
      "Confusion Matrix: \n",
      " [[119  32]\n",
      " [ 32  48]]\n"
     ]
    }
   ],
   "source": [
    "## Checking the model Performances\n",
    "from sklearn.metrics import accuracy_score,classification_report,roc_auc_score,confusion_matrix\n",
    "y_pred=mlp.predict(X_test)\n",
    "accuracy=accuracy_score(y_test,y_pred)\n",
    "print(\"Accuracy score: \\t {}\".format(accuracy))\n",
    "print(\"Classification score \\n {}\".format(classification_report(y_test,y_pred)))\n",
    "print(\"ROC score: \\t {}\".format(roc_auc_score(y_test,y_pred)))\n",
    "print(\"Confusion Matrix: \\n {}\".format(confusion_matrix(y_test,y_pred)))"
   ]
  },
  {
   "cell_type": "markdown",
   "metadata": {
    "id": "5hgDGm_NAQRm"
   },
   "source": [
    "### Implement K-fold Cross Validation to see the model performances"
   ]
  },
  {
   "cell_type": "code",
   "execution_count": 56,
   "metadata": {
    "colab": {
     "base_uri": "https://localhost:8080/"
    },
    "id": "yyrJE5NzZjIQ",
    "outputId": "5f29e21a-c2ad-44b2-b031-9e0596995b83"
   },
   "outputs": [
    {
     "name": "stdout",
     "output_type": "stream",
     "text": [
      "Accuracy of the model:\t 74.29 %\n",
      "Standard deviation of the model:\t 5.66%\n"
     ]
    }
   ],
   "source": [
    "##Checking the model performances using K-fold \n",
    "from sklearn.model_selection import cross_val_score\n",
    "accuracy=cross_val_score(estimator=mlp, X=X_train,y=y_train,cv=10)\n",
    "print(\"Accuracy of the model:\\t {:.2f} %\".format(accuracy.mean()*100))\n",
    "print(\"Standard deviation of the model:\\t {:.2f}%\".format(accuracy.std()*100))"
   ]
  },
  {
   "cell_type": "markdown",
   "metadata": {
    "id": "6YTrD3FRPLTv"
   },
   "source": [
    "###Applying GridSerachCV to get the best modell and parameters"
   ]
  },
  {
   "cell_type": "code",
   "execution_count": 57,
   "metadata": {
    "colab": {
     "base_uri": "https://localhost:8080/"
    },
    "id": "Yptbau5ePivD",
    "outputId": "94aa627c-a205-40a3-8bd3-36dae90f691d"
   },
   "outputs": [
    {
     "data": {
      "text/plain": [
       "GridSearchCV(cv=10, error_score=nan,\n",
       "             estimator=MLPClassifier(activation='relu', alpha=0.0001,\n",
       "                                     batch_size='auto', beta_1=0.9,\n",
       "                                     beta_2=0.999, early_stopping=False,\n",
       "                                     epsilon=1e-08,\n",
       "                                     hidden_layer_sizes=(10, 10, 10),\n",
       "                                     learning_rate='constant',\n",
       "                                     learning_rate_init=0.001, max_fun=15000,\n",
       "                                     max_iter=300, momentum=0.9,\n",
       "                                     n_iter_no_change=10,\n",
       "                                     nesterovs_momentum=True, power_t=0.5,\n",
       "                                     random_...\n",
       "                                     validation_fraction=0.1, verbose=False,\n",
       "                                     warm_start=False),\n",
       "             iid='deprecated', n_jobs=-1,\n",
       "             param_grid={'activation': ['identity', 'logistic', 'tanh', 'relu'],\n",
       "                         'alpha': [0.0001, 0.005],\n",
       "                         'hidden_layer_sizes': [(10,), (10,), (10,)],\n",
       "                         'learning_rate': ['constant', 'invscaling',\n",
       "                                           'adaptive'],\n",
       "                         'solver': ['lbfgs', 'sgd', 'adam']},\n",
       "             pre_dispatch='2*n_jobs', refit=True, return_train_score=False,\n",
       "             scoring='accuracy', verbose=0)"
      ]
     },
     "execution_count": 57,
     "metadata": {
      "tags": []
     },
     "output_type": "execute_result"
    }
   ],
   "source": [
    "#Implementing Gird SearchCV\n",
    "from sklearn.model_selection import GridSearchCV\n",
    "parameters={'hidden_layer_sizes':[(10,),(10,),(10,)],\n",
    "            'activation':['identity', 'logistic', 'tanh', 'relu'],\n",
    "            'solver': ['lbfgs', 'sgd', 'adam'],\n",
    "            'learning_rate':['constant', 'invscaling', 'adaptive'],\n",
    "            'alpha':[0.0001,0.005]   \n",
    "}\n",
    "\n",
    "grid_search=GridSearchCV(estimator=mlp,param_grid=parameters,scoring='accuracy',n_jobs=-1,cv=10)\n",
    "grid_search.fit(X_train,y_train)\n"
   ]
  },
  {
   "cell_type": "code",
   "execution_count": 58,
   "metadata": {
    "colab": {
     "base_uri": "https://localhost:8080/"
    },
    "id": "c8OCvwQdTYRP",
    "outputId": "beacfaaa-ecb1-4b11-866c-326c6ab7877e"
   },
   "outputs": [
    {
     "name": "stdout",
     "output_type": "stream",
     "text": [
      "0.7894479385045423\n"
     ]
    }
   ],
   "source": [
    "accuracy=grid_search.best_score_\n",
    "print(accuracy)"
   ]
  },
  {
   "cell_type": "code",
   "execution_count": 59,
   "metadata": {
    "colab": {
     "base_uri": "https://localhost:8080/"
    },
    "id": "UDYwWo4MXTbx",
    "outputId": "9840ef73-e22d-4896-d3b8-acafafca5da8"
   },
   "outputs": [
    {
     "data": {
      "text/plain": [
       "{'activation': 'tanh',\n",
       " 'alpha': 0.005,\n",
       " 'hidden_layer_sizes': (10,),\n",
       " 'learning_rate': 'constant',\n",
       " 'solver': 'adam'}"
      ]
     },
     "execution_count": 59,
     "metadata": {
      "tags": []
     },
     "output_type": "execute_result"
    }
   ],
   "source": [
    "grid_search.best_params_"
   ]
  },
  {
   "cell_type": "markdown",
   "metadata": {
    "id": "KhG0679Hc7fi"
   },
   "source": [
    "### Reimplementing the model with the best parameters"
   ]
  },
  {
   "cell_type": "code",
   "execution_count": 72,
   "metadata": {
    "colab": {
     "base_uri": "https://localhost:8080/"
    },
    "id": "fyzHQhi8Zp0m",
    "outputId": "5d4000dd-5a0e-47f5-b95a-6722c52e70cb"
   },
   "outputs": [
    {
     "data": {
      "text/plain": [
       "MLPClassifier(activation='tanh', alpha=0.005, batch_size='auto', beta_1=0.9,\n",
       "              beta_2=0.999, early_stopping=False, epsilon=1e-08,\n",
       "              hidden_layer_sizes=(10,), learning_rate='constant',\n",
       "              learning_rate_init=0.001, max_fun=15000, max_iter=300,\n",
       "              momentum=0.9, n_iter_no_change=10, nesterovs_momentum=True,\n",
       "              power_t=0.5, random_state=None, shuffle=True, solver='adam',\n",
       "              tol=0.0001, validation_fraction=0.1, verbose=False,\n",
       "              warm_start=False)"
      ]
     },
     "execution_count": 72,
     "metadata": {
      "tags": []
     },
     "output_type": "execute_result"
    }
   ],
   "source": [
    "#Implementing the model\n",
    "mlp1=MLPClassifier(activation= 'tanh',alpha=0.005, hidden_layer_sizes=(10,),learning_rate='constant',solver= 'adam',max_iter=300)\n",
    "mlp1.fit(X_train,y_train)"
   ]
  },
  {
   "cell_type": "code",
   "execution_count": 73,
   "metadata": {
    "colab": {
     "base_uri": "https://localhost:8080/"
    },
    "id": "0Oqs3W33atek",
    "outputId": "3b71249e-d19c-41b5-826b-99de5a9fbd1d"
   },
   "outputs": [
    {
     "name": "stdout",
     "output_type": "stream",
     "text": [
      "Accuracy score: \t 73.16 %\n",
      "Classification Report \n",
      "               precision    recall  f1-score   support\n",
      "\n",
      "           0       0.79      0.81      0.80       151\n",
      "           1       0.62      0.59      0.60        80\n",
      "\n",
      "    accuracy                           0.73       231\n",
      "   macro avg       0.70      0.70      0.70       231\n",
      "weighted avg       0.73      0.73      0.73       231\n",
      "\n",
      "ROC score: \t 69.77 %\n",
      "Confusion Matrix: \n",
      " [[122  29]\n",
      " [ 33  47]]\n"
     ]
    }
   ],
   "source": [
    "## Checking the model Performances\n",
    "y_pred=mlp1.predict(X_test)\n",
    "accuracy=accuracy_score(y_test,y_pred)\n",
    "print(\"Accuracy score: \\t {:.2f} %\".format(accuracy*100))\n",
    "print(\"Classification Report \\n {}\".format(classification_report(y_test,y_pred)))\n",
    "print(\"ROC score: \\t {:.2f} %\".format(roc_auc_score(y_test,y_pred)*100))\n",
    "print(\"Confusion Matrix: \\n {}\".format(confusion_matrix(y_test,y_pred)))"
   ]
  },
  {
   "cell_type": "markdown",
   "metadata": {
    "id": "CEbMSdEgcCir"
   },
   "source": [
    "### Model with balanceing Data using Over Sampling(for the purpose of checking)"
   ]
  },
  {
   "cell_type": "code",
   "execution_count": 62,
   "metadata": {
    "id": "YHD-fi9UcI-_"
   },
   "outputs": [],
   "source": [
    "## Performing oversampling and importing the file\n",
    "from imblearn.over_sampling import RandomOverSampler\n",
    "from collections import Counter"
   ]
  },
  {
   "cell_type": "code",
   "execution_count": 63,
   "metadata": {
    "colab": {
     "base_uri": "https://localhost:8080/"
    },
    "id": "m2VC8nS0cJPQ",
    "outputId": "c68336c9-9234-4a6e-af00-50a410566801"
   },
   "outputs": [
    {
     "name": "stdout",
     "output_type": "stream",
     "text": [
      "class before fitCounter({0: 349, 1: 188})\n",
      "class after fitCounter({0: 349, 1: 261})\n"
     ]
    }
   ],
   "source": [
    "## Performing oversampling\n",
    "rs=RandomOverSampler(.75)\n",
    "X_train_RS, y_train_RS=rs.fit_sample(X_train,y_train)\n",
    "print(\"class before fit{}\".format(Counter(y_train)))\n",
    "print(\"class after fit{}\".format(Counter(y_train_RS)))"
   ]
  },
  {
   "cell_type": "code",
   "execution_count": 64,
   "metadata": {
    "colab": {
     "base_uri": "https://localhost:8080/"
    },
    "id": "Yt6g-aw_cJSK",
    "outputId": "313f9be8-0e5b-4bfe-ea82-43deb7514a8d"
   },
   "outputs": [
    {
     "data": {
      "text/plain": [
       "MLPClassifier(activation='relu', alpha=0.0001, batch_size='auto', beta_1=0.9,\n",
       "              beta_2=0.999, early_stopping=False, epsilon=1e-08,\n",
       "              hidden_layer_sizes=(10, 10, 10), learning_rate='constant',\n",
       "              learning_rate_init=0.001, max_fun=15000, max_iter=300,\n",
       "              momentum=0.9, n_iter_no_change=10, nesterovs_momentum=True,\n",
       "              power_t=0.5, random_state=None, shuffle=True, solver='adam',\n",
       "              tol=0.0001, validation_fraction=0.1, verbose=False,\n",
       "              warm_start=False)"
      ]
     },
     "execution_count": 64,
     "metadata": {
      "tags": []
     },
     "output_type": "execute_result"
    }
   ],
   "source": [
    "# Implementing the model\n",
    "from sklearn.neural_network import MLPClassifier\n",
    "mlp=MLPClassifier(hidden_layer_sizes=(10,10,10),max_iter=300)\n",
    "mlp.fit(X_train_RS,y_train_RS)"
   ]
  },
  {
   "cell_type": "code",
   "execution_count": 65,
   "metadata": {
    "colab": {
     "base_uri": "https://localhost:8080/"
    },
    "id": "uCKMjLo4vD81",
    "outputId": "832efac7-eb32-4e74-f2b1-95fcbbe71fa2"
   },
   "outputs": [
    {
     "name": "stdout",
     "output_type": "stream",
     "text": [
      "Accuracy score: \t 0.7142857142857143\n",
      "Classification score \n",
      "               precision    recall  f1-score   support\n",
      "\n",
      "           0       0.81      0.74      0.77       151\n",
      "           1       0.58      0.66      0.62        80\n",
      "\n",
      "    accuracy                           0.71       231\n",
      "   macro avg       0.69      0.70      0.69       231\n",
      "weighted avg       0.73      0.71      0.72       231\n",
      "\n",
      "ROC score: \t 0.7021109271523179\n",
      "Confusion Matrix: \n",
      " [[112  39]\n",
      " [ 27  53]]\n"
     ]
    }
   ],
   "source": [
    "## Checking the model Performances\n",
    "from sklearn.metrics import accuracy_score,classification_report,roc_auc_score,confusion_matrix\n",
    "y_pred=mlp.predict(X_test)\n",
    "print(\"Accuracy score: \\t {}\".format(accuracy_score(y_test,y_pred)))\n",
    "print(\"Classification score \\n {}\".format(classification_report(y_test,y_pred)))\n",
    "print(\"ROC score: \\t {}\".format(roc_auc_score(y_test,y_pred)))\n",
    "print(\"Confusion Matrix: \\n {}\".format(confusion_matrix(y_test,y_pred)))"
   ]
  },
  {
   "cell_type": "markdown",
   "metadata": {
    "id": "cy_vkyEzAru6"
   },
   "source": [
    "### Implement K-fold Cross Validation to see the model performances"
   ]
  },
  {
   "cell_type": "code",
   "execution_count": 66,
   "metadata": {
    "colab": {
     "base_uri": "https://localhost:8080/"
    },
    "id": "cQC03i6evWWw",
    "outputId": "471c1953-fa1b-4b70-dfca-08c93a3f2ff4"
   },
   "outputs": [
    {
     "name": "stdout",
     "output_type": "stream",
     "text": [
      "Accuracy of the model:\t 75.57 %\n",
      "Standard deviation of the model:\t 4.24%\n"
     ]
    }
   ],
   "source": [
    "## Checking the model performance  using the K-fold\n",
    "from sklearn.model_selection import cross_val_score\n",
    "accuracy=cross_val_score(estimator=mlp, X=X_train_RS,y=y_train_RS,cv=10)\n",
    "print(\"Accuracy of the model:\\t {:.2f} %\".format(accuracy.mean()*100))\n",
    "print(\"Standard deviation of the model:\\t {:.2f}%\".format(accuracy.std()*100))"
   ]
  },
  {
   "cell_type": "markdown",
   "metadata": {
    "id": "uoj8jkv5lz8J"
   },
   "source": [
    "### Implementing GridSearchCV to get the best parameters"
   ]
  },
  {
   "cell_type": "code",
   "execution_count": 67,
   "metadata": {
    "colab": {
     "base_uri": "https://localhost:8080/"
    },
    "id": "fqSHDI01l9Rk",
    "outputId": "16eeec07-20c2-4199-e510-df1d618a551b"
   },
   "outputs": [
    {
     "data": {
      "text/plain": [
       "GridSearchCV(cv=10, error_score=nan,\n",
       "             estimator=MLPClassifier(activation='relu', alpha=0.0001,\n",
       "                                     batch_size='auto', beta_1=0.9,\n",
       "                                     beta_2=0.999, early_stopping=False,\n",
       "                                     epsilon=1e-08,\n",
       "                                     hidden_layer_sizes=(10, 10, 10),\n",
       "                                     learning_rate='constant',\n",
       "                                     learning_rate_init=0.001, max_fun=15000,\n",
       "                                     max_iter=300, momentum=0.9,\n",
       "                                     n_iter_no_change=10,\n",
       "                                     nesterovs_momentum=True, power_t=0.5,\n",
       "                                     random_...\n",
       "                                     validation_fraction=0.1, verbose=False,\n",
       "                                     warm_start=False),\n",
       "             iid='deprecated', n_jobs=-1,\n",
       "             param_grid={'activation': ['identity', 'logistic', 'tanh', 'relu'],\n",
       "                         'alpha': [0.0001, 0.005],\n",
       "                         'hidden_layer_sizes': [(10,), (10,), (10,)],\n",
       "                         'learning_rate': ['constant', 'invscaling',\n",
       "                                           'adaptive'],\n",
       "                         'solver': ['lbfgs', 'sgd', 'adam']},\n",
       "             pre_dispatch='2*n_jobs', refit=True, return_train_score=False,\n",
       "             scoring='accuracy', verbose=0)"
      ]
     },
     "execution_count": 67,
     "metadata": {
      "tags": []
     },
     "output_type": "execute_result"
    }
   ],
   "source": [
    "from sklearn.model_selection import GridSearchCV\n",
    "parameters={'hidden_layer_sizes':[(10,),(10,),(10,)],\n",
    "            'activation':['identity', 'logistic', 'tanh', 'relu'],\n",
    "            'solver': ['lbfgs', 'sgd', 'adam'],\n",
    "            'learning_rate':['constant', 'invscaling', 'adaptive'],\n",
    "            'alpha':[0.0001,0.005]   \n",
    "}\n",
    "\n",
    "grid_search=GridSearchCV(estimator=mlp,param_grid=parameters,scoring='accuracy',n_jobs=-1,cv=10)\n",
    "grid_search.fit(X_train_RS,y_train_RS)\n"
   ]
  },
  {
   "cell_type": "code",
   "execution_count": 68,
   "metadata": {
    "colab": {
     "base_uri": "https://localhost:8080/"
    },
    "id": "sKc46wBTcigJ",
    "outputId": "cf54d900-dc9f-4829-87e3-f3c5727f0a23"
   },
   "outputs": [
    {
     "name": "stdout",
     "output_type": "stream",
     "text": [
      "0.7918032786885245\n"
     ]
    }
   ],
   "source": [
    "## Getting the best accuracy rate\n",
    "accuracy=grid_search.best_score_\n",
    "print(accuracy)"
   ]
  },
  {
   "cell_type": "code",
   "execution_count": 69,
   "metadata": {
    "colab": {
     "base_uri": "https://localhost:8080/"
    },
    "id": "Qlpuy8ACetBw",
    "outputId": "4092748c-128d-40f8-c1e4-4b8c38b621db"
   },
   "outputs": [
    {
     "data": {
      "text/plain": [
       "{'activation': 'tanh',\n",
       " 'alpha': 0.005,\n",
       " 'hidden_layer_sizes': (10,),\n",
       " 'learning_rate': 'invscaling',\n",
       " 'solver': 'lbfgs'}"
      ]
     },
     "execution_count": 69,
     "metadata": {
      "tags": []
     },
     "output_type": "execute_result"
    }
   ],
   "source": [
    "## Getting the best Parameter\n",
    "grid_search.best_params_"
   ]
  },
  {
   "cell_type": "markdown",
   "metadata": {
    "id": "CLHqyMy2fLsp"
   },
   "source": [
    "###Reimplementing the model with the best parameters for banlance dataset"
   ]
  },
  {
   "cell_type": "code",
   "execution_count": 83,
   "metadata": {
    "colab": {
     "base_uri": "https://localhost:8080/"
    },
    "id": "G-h7L-vme9pb",
    "outputId": "2af1b069-8199-4727-e609-156d5f1508e3"
   },
   "outputs": [
    {
     "data": {
      "text/plain": [
       "MLPClassifier(activation='tanh', alpha=0.005, batch_size='auto', beta_1=0.9,\n",
       "              beta_2=0.999, early_stopping=False, epsilon=1e-08,\n",
       "              hidden_layer_sizes=(10,), learning_rate='invscaling',\n",
       "              learning_rate_init=0.001, max_fun=15000, max_iter=300,\n",
       "              momentum=0.9, n_iter_no_change=10, nesterovs_momentum=True,\n",
       "              power_t=0.5, random_state=None, shuffle=True, solver='lbfgs',\n",
       "              tol=0.0001, validation_fraction=0.1, verbose=False,\n",
       "              warm_start=False)"
      ]
     },
     "execution_count": 83,
     "metadata": {
      "tags": []
     },
     "output_type": "execute_result"
    }
   ],
   "source": [
    "#Implementing the model\n",
    "mlp_RS=MLPClassifier(activation= 'tanh',alpha=0.005, hidden_layer_sizes=(10,),learning_rate='invscaling',solver= 'lbfgs',max_iter=300)\n",
    "mlp_RS.fit(X_train_RS,y_train_RS)"
   ]
  },
  {
   "cell_type": "code",
   "execution_count": 84,
   "metadata": {
    "colab": {
     "base_uri": "https://localhost:8080/"
    },
    "id": "n1PITqkefJQD",
    "outputId": "335b4a6a-a1cc-4917-8302-84dcfe769d42"
   },
   "outputs": [
    {
     "name": "stdout",
     "output_type": "stream",
     "text": [
      "Accuracy score: \t 74.46 %\n",
      "Classification Report \n",
      "               precision    recall  f1-score   support\n",
      "\n",
      "           0       0.82      0.78      0.80       151\n",
      "           1       0.62      0.68      0.65        80\n",
      "\n",
      "    accuracy                           0.74       231\n",
      "   macro avg       0.72      0.73      0.72       231\n",
      "weighted avg       0.75      0.74      0.75       231\n",
      "\n",
      "ROC score: \t 72.82 %\n",
      "Confusion Matrix: \n",
      " [[118  33]\n",
      " [ 26  54]]\n"
     ]
    }
   ],
   "source": [
    "\n",
    "## Checking the model Performances\n",
    "y_pred=mlp_RS.predict(X_test)\n",
    "accuracy=accuracy_score(y_test,y_pred)\n",
    "print(\"Accuracy score: \\t {:.2f} %\".format(accuracy*100))\n",
    "print(\"Classification Report \\n {}\".format(classification_report(y_test,y_pred)))\n",
    "print(\"ROC score: \\t {:.2f} %\".format(roc_auc_score(y_test,y_pred)*100))\n",
    "print(\"Confusion Matrix: \\n {}\".format(confusion_matrix(y_test,y_pred)))"
   ]
  },
  {
   "cell_type": "code",
   "execution_count": null,
   "metadata": {
    "id": "QJk8-vGllgi-"
   },
   "outputs": [],
   "source": []
  }
 ],
 "metadata": {
  "colab": {
   "name": "SEP-788",
   "provenance": []
  },
  "kernelspec": {
   "display_name": "Python 3",
   "language": "python",
   "name": "python3"
  },
  "language_info": {
   "codemirror_mode": {
    "name": "ipython",
    "version": 3
   },
   "file_extension": ".py",
   "mimetype": "text/x-python",
   "name": "python",
   "nbconvert_exporter": "python",
   "pygments_lexer": "ipython3",
   "version": "3.8.5"
  }
 },
 "nbformat": 4,
 "nbformat_minor": 1
}
